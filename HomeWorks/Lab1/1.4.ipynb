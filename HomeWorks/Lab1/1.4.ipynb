{
 "cells": [
  {
   "cell_type": "markdown",
   "id": "3d2f9839",
   "metadata": {},
   "source": [
    "It's very strange to do something like this\n"
   ]
  },
  {
   "cell_type": "markdown",
   "id": "c4229f7c",
   "metadata": {},
   "source": [
    "\n",
    "$\\overline{y}=\\frac{1}{n}\\sum_{i=1}^{n} {x_{i}}$\n",
    "\n"
   ]
  },
  {
   "cell_type": "markdown",
   "id": "35a2e2d5",
   "metadata": {},
   "source": [
    "I need the fastest way to get rid of it "
   ]
  },
  {
   "cell_type": "markdown",
   "id": "7236cd6a",
   "metadata": {},
   "source": [
    "$^{}\\sigma ^{2}=\\frac{\\sum_{i=1}^{n} {(y_{i}-\\overline{y})}^{2}}{n-1}$\n",
    "\n"
   ]
  },
  {
   "cell_type": "markdown",
   "id": "3518706c",
   "metadata": {},
   "source": [
    "It's done"
   ]
  },
  {
   "cell_type": "markdown",
   "id": "c86c2175",
   "metadata": {},
   "source": [
    "$\\sigma= \\sqrt{\\frac{\\sum_{i=1}^{n}{(y_{i}-\\overline{y})}^{2}}{n-1}}$\n"
   ]
  },
  {
   "cell_type": "code",
   "execution_count": null,
   "id": "53185e6c",
   "metadata": {},
   "outputs": [],
   "source": []
  }
 ],
 "metadata": {
  "kernelspec": {
   "display_name": "Python 3",
   "language": "python",
   "name": "python3"
  },
  "language_info": {
   "codemirror_mode": {
    "name": "ipython",
    "version": 3
   },
   "file_extension": ".py",
   "mimetype": "text/x-python",
   "name": "python",
   "nbconvert_exporter": "python",
   "pygments_lexer": "ipython3",
   "version": "3.8.8"
  }
 },
 "nbformat": 4,
 "nbformat_minor": 5
}
