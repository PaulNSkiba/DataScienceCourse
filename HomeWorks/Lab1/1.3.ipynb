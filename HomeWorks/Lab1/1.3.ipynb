{
 "cells": [
  {
   "cell_type": "markdown",
   "id": "11456eb5",
   "metadata": {},
   "source": [
    "## 1.Markdown cells\n"
   ]
  },
  {
   "cell_type": "markdown",
   "id": "8f391e4f",
   "metadata": {},
   "source": [
    "+ Just one\n"
   ]
  },
  {
   "cell_type": "markdown",
   "id": "cbc76467",
   "metadata": {},
   "source": [
    "+ Just two"
   ]
  },
  {
   "cell_type": "markdown",
   "id": "58012acf",
   "metadata": {},
   "source": [
    "+ Just three with my [LinkedIn](https://www.linkedin.com/in/paul-skiba-67aa7181/ \"LinkedIn\")"
   ]
  },
  {
   "cell_type": "markdown",
   "id": "f4c21c57",
   "metadata": {},
   "source": [
    "# Heading 1"
   ]
  },
  {
   "cell_type": "markdown",
   "id": "e431990c",
   "metadata": {},
   "source": [
    "## Heading 2"
   ]
  },
  {
   "cell_type": "markdown",
   "id": "8afa7897",
   "metadata": {},
   "source": [
    "<b><font color='#262'>Some dark green color</font></b>\n"
   ]
  },
  {
   "cell_type": "markdown",
   "id": "88ec828e",
   "metadata": {},
   "source": [
    "> Strange syntax WTF"
   ]
  },
  {
   "cell_type": "markdown",
   "id": "9ee9c2f6",
   "metadata": {},
   "source": [
    "Here is the paragraph:  "
   ]
  },
  {
   "cell_type": "markdown",
   "id": "6545968a",
   "metadata": {},
   "source": [
    "<div align=\"right\">$y_{sub}=\\sqrt({x_{sub}})$</div>"
   ]
  },
  {
   "cell_type": "markdown",
   "id": "1b2513c7",
   "metadata": {},
   "source": [
    "`Python` **code**:"
   ]
  },
  {
   "cell_type": "markdown",
   "id": "bc021ba2",
   "metadata": {},
   "source": [
    "```\n",
    "import math\n",
    "def foo():\n",
    "    return 'foo'\n",
    "```"
   ]
  }
 ],
 "metadata": {
  "kernelspec": {
   "display_name": "Python 3",
   "language": "python",
   "name": "python3"
  }
 },
 "nbformat": 4,
 "nbformat_minor": 5
}
