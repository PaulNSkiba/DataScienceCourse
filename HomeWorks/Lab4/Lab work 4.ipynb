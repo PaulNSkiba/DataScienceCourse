{
 "cells": [
  {
   "cell_type": "markdown",
   "metadata": {},
   "source": [
    "___\n",
    "\n",
    "<a href='https://mainacademy.ua/'> <img src='https://mainacademy.ua/wp-content/uploads/2019/03/logo-main.png' alt = 'Хмм, щось з інтернетом'/></a>\n",
    "___\n",
    "\n",
    "# Module 4: Work with data professionally!"
   ]
  },
  {
   "cell_type": "markdown",
   "metadata": {},
   "source": [
    "## Lab work 4\n",
    "\n"
   ]
  },
  {
   "cell_type": "markdown",
   "metadata": {},
   "source": [
    "#### Мета: \n",
    "\n",
    "* навчитися обробляти дані\n",
    "* \"парсити\" сайти"
   ]
  },
  {
   "cell_type": "markdown",
   "metadata": {},
   "source": [
    "### Завдання 1:"
   ]
  },
  {
   "cell_type": "markdown",
   "metadata": {},
   "source": [
    "#### Ознайомитися із API Національного банку \n",
    "https://old.bank.gov.ua/control/uk/publish/article?art_id=38441973&cat_id=38459171#exchange\n",
    "\n"
   ]
  },
  {
   "cell_type": "markdown",
   "metadata": {},
   "source": [
    "1. Підключитися до API.\n"
   ]
  },
  {
   "cell_type": "code",
   "execution_count": 42,
   "metadata": {},
   "outputs": [
    {
     "name": "stdout",
     "output_type": "stream",
     "text": [
      "[\r\n",
      "{ \r\n",
      "\"r030\":978,\"txt\":\"Євро\",\"rate\":26.9789,\"cc\":\"EUR\",\"exchangedate\":\"02.03.2020\"\r\n",
      " }\r\n",
      "]\r\n",
      "\n"
     ]
    }
   ],
   "source": [
    "import requests\n",
    "\n",
    "URL = \"https://bank.gov.ua/NBUStatService/v1/statdirectory/exchange?valcode=EUR&date=20200302&json\"\n",
    "page = requests.get(URL)\n",
    "\n",
    "print(page.text)"
   ]
  },
  {
   "cell_type": "markdown",
   "metadata": {},
   "source": [
    "2. Отримати курс долара за останній рік."
   ]
  },
  {
   "cell_type": "code",
   "execution_count": 112,
   "metadata": {},
   "outputs": [
    {
     "name": "stdout",
     "output_type": "stream",
     "text": [
      "[{'onDate': '20210101', 'rate': 28.2746}, {'onDate': '20210102', 'rate': 28.2746}, {'onDate': '20210103', 'rate': 28.2746}, {'onDate': '20210104', 'rate': 28.2746}, {'onDate': '20210105', 'rate': 28.431}, {'onDate': '20210106', 'rate': 28.4028}, {'onDate': '20210107', 'rate': 28.4028}, {'onDate': '20210108', 'rate': 28.4028}, {'onDate': '20210109', 'rate': 28.4028}, {'onDate': '20210110', 'rate': 28.4028}, {'onDate': '20210111', 'rate': 28.2847}, {'onDate': '20210112', 'rate': 28.2038}, {'onDate': '20210113', 'rate': 28.046}, {'onDate': '20210114', 'rate': 27.9705}, {'onDate': '20210115', 'rate': 28.0609}, {'onDate': '20210116', 'rate': 28.0524}, {'onDate': '20210117', 'rate': 28.0524}, {'onDate': '20210118', 'rate': 28.0524}, {'onDate': '20210119', 'rate': 28.1926}, {'onDate': '20210120', 'rate': 28.1544}, {'onDate': '20210121', 'rate': 28.2035}, {'onDate': '20210122', 'rate': 28.2561}, {'onDate': '20210123', 'rate': 28.2561}, {'onDate': '20210124', 'rate': 28.2561}, {'onDate': '20210125', 'rate': 28.1648}, {'onDate': '20210126', 'rate': 28.1665}, {'onDate': '20210127', 'rate': 28.1524}, {'onDate': '20210128', 'rate': 28.1652}, {'onDate': '20210129', 'rate': 28.1929}, {'onDate': '20210130', 'rate': 28.1929}, {'onDate': '20210131', 'rate': 28.1929}, {'onDate': '20210201', 'rate': 28.1324}, {'onDate': '20210202', 'rate': 28.0603}, {'onDate': '20210203', 'rate': 28.0589}, {'onDate': '20210204', 'rate': 27.995}, {'onDate': '20210205', 'rate': 27.8885}, {'onDate': '20210206', 'rate': 27.8885}, {'onDate': '20210207', 'rate': 27.8885}, {'onDate': '20210208', 'rate': 27.7711}, {'onDate': '20210209', 'rate': 27.6651}, {'onDate': '20210210', 'rate': 27.6426}, {'onDate': '20210211', 'rate': 27.7665}, {'onDate': '20210212', 'rate': 27.8384}, {'onDate': '20210213', 'rate': 27.8384}, {'onDate': '20210214', 'rate': 27.8384}, {'onDate': '20210215', 'rate': 27.844}, {'onDate': '20210216', 'rate': 27.9671}, {'onDate': '20210217', 'rate': 27.8304}, {'onDate': '20210218', 'rate': 27.9038}, {'onDate': '20210219', 'rate': 27.8461}, {'onDate': '20210220', 'rate': 27.8461}, {'onDate': '20210221', 'rate': 27.8461}, {'onDate': '20210222', 'rate': 27.8468}, {'onDate': '20210223', 'rate': 27.9304}, {'onDate': '20210224', 'rate': 27.8976}, {'onDate': '20210225', 'rate': 27.9492}, {'onDate': '20210226', 'rate': 27.9301}, {'onDate': '20210227', 'rate': 27.9301}, {'onDate': '20210228', 'rate': 27.9301}, {'onDate': '20210301', 'rate': 27.9456}, {'onDate': '20210302', 'rate': 28.0007}, {'onDate': '20210303', 'rate': 27.933}, {'onDate': '20210304', 'rate': 27.8477}, {'onDate': '20210305', 'rate': 27.7564}, {'onDate': '20210306', 'rate': 27.7564}, {'onDate': '20210307', 'rate': 27.7564}, {'onDate': '20210308', 'rate': 27.7564}, {'onDate': '20210309', 'rate': 27.7091}, {'onDate': '20210310', 'rate': 27.7431}, {'onDate': '20210311', 'rate': 27.7016}, {'onDate': '20210312', 'rate': 27.7486}, {'onDate': '20210313', 'rate': 27.7486}, {'onDate': '20210314', 'rate': 27.7486}, {'onDate': '20210315', 'rate': 27.7305}, {'onDate': '20210316', 'rate': 27.6434}, {'onDate': '20210317', 'rate': 27.6525}, {'onDate': '20210318', 'rate': 27.6978}, {'onDate': '20210319', 'rate': 27.6828}, {'onDate': '20210320', 'rate': 27.6828}, {'onDate': '20210321', 'rate': 27.6828}, {'onDate': '20210322', 'rate': 27.7184}, {'onDate': '20210323', 'rate': 27.6871}, {'onDate': '20210324', 'rate': 27.7295}, {'onDate': '20210325', 'rate': 27.8706}, {'onDate': '20210326', 'rate': 27.9698}, {'onDate': '20210327', 'rate': 27.9698}, {'onDate': '20210328', 'rate': 27.9698}, {'onDate': '20210329', 'rate': 27.9679}, {'onDate': '20210330', 'rate': 27.9694}, {'onDate': '20210331', 'rate': 27.8852}, {'onDate': '20210401', 'rate': 27.8226}, {'onDate': '20210402', 'rate': 27.8324}, {'onDate': '20210403', 'rate': 27.8324}, {'onDate': '20210404', 'rate': 27.8324}, {'onDate': '20210405', 'rate': 27.9555}, {'onDate': '20210406', 'rate': 27.939}, {'onDate': '20210407', 'rate': 27.8384}, {'onDate': '20210408', 'rate': 27.8923}, {'onDate': '20210409', 'rate': 27.9768}, {'onDate': '20210410', 'rate': 27.9768}, {'onDate': '20210411', 'rate': 27.9768}, {'onDate': '20210412', 'rate': 27.9094}, {'onDate': '20210413', 'rate': 27.9335}, {'onDate': '20210414', 'rate': 28.0156}, {'onDate': '20210415', 'rate': 27.9765}, {'onDate': '20210416', 'rate': 27.9592}, {'onDate': '20210417', 'rate': 27.9592}, {'onDate': '20210418', 'rate': 27.9592}, {'onDate': '20210419', 'rate': 27.9783}, {'onDate': '20210420', 'rate': 28.0087}, {'onDate': '20210421', 'rate': 28.0096}, {'onDate': '20210422', 'rate': 28.0576}, {'onDate': '20210423', 'rate': 28.0642}, {'onDate': '20210424', 'rate': 28.0642}, {'onDate': '20210425', 'rate': 28.0642}, {'onDate': '20210426', 'rate': 27.9014}, {'onDate': '20210427', 'rate': 27.8558}, {'onDate': '20210428', 'rate': 27.7715}, {'onDate': '20210429', 'rate': 27.7867}, {'onDate': '20210430', 'rate': 27.75}, {'onDate': '20210501', 'rate': 27.75}, {'onDate': '20210502', 'rate': 27.75}, {'onDate': '20210503', 'rate': 27.75}, {'onDate': '20210504', 'rate': 27.75}, {'onDate': '20210505', 'rate': 27.733}, {'onDate': '20210506', 'rate': 27.7339}, {'onDate': '20210507', 'rate': 27.7205}, {'onDate': '20210508', 'rate': 27.7205}, {'onDate': '20210509', 'rate': 27.7205}, {'onDate': '20210510', 'rate': 27.7205}, {'onDate': '20210511', 'rate': 27.7641}, {'onDate': '20210512', 'rate': 27.6744}, {'onDate': '20210513', 'rate': 27.6318}, {'onDate': '20210514', 'rate': 27.6273}, {'onDate': '20210515', 'rate': 27.6273}, {'onDate': '20210516', 'rate': 27.6273}, {'onDate': '20210517', 'rate': 27.6142}, {'onDate': '20210518', 'rate': 27.555}, {'onDate': '20210519', 'rate': 27.4368}, {'onDate': '20210520', 'rate': 27.4166}, {'onDate': '20210521', 'rate': 27.4665}, {'onDate': '20210522', 'rate': 27.4665}, {'onDate': '20210523', 'rate': 27.4665}, {'onDate': '20210524', 'rate': 27.4572}, {'onDate': '20210525', 'rate': 27.4281}, {'onDate': '20210526', 'rate': 27.4553}, {'onDate': '20210527', 'rate': 27.5461}, {'onDate': '20210528', 'rate': 27.526}, {'onDate': '20210529', 'rate': 27.526}, {'onDate': '20210530', 'rate': 27.526}, {'onDate': '20210531', 'rate': 27.5004}, {'onDate': '20210601', 'rate': 27.4674}, {'onDate': '20210602', 'rate': 27.4381}, {'onDate': '20210603', 'rate': 27.3449}, {'onDate': '20210604', 'rate': 27.34}, {'onDate': '20210605', 'rate': 27.34}, {'onDate': '20210606', 'rate': 27.34}, {'onDate': '20210607', 'rate': 27.2914}, {'onDate': '20210608', 'rate': 27.1923}, {'onDate': '20210609', 'rate': 27.1764}, {'onDate': '20210610', 'rate': 27.0906}, {'onDate': '20210611', 'rate': 27.1068}, {'onDate': '20210612', 'rate': 27.1068}, {'onDate': '20210613', 'rate': 27.1068}, {'onDate': '20210614', 'rate': 27.0404}, {'onDate': '20210615', 'rate': 26.9957}, {'onDate': '20210616', 'rate': 26.9258}, {'onDate': '20210617', 'rate': 27.0275}, {'onDate': '20210618', 'rate': 27.1712}, {'onDate': '20210619', 'rate': 27.1712}, {'onDate': '20210620', 'rate': 27.1712}, {'onDate': '20210621', 'rate': 27.1712}, {'onDate': '20210622', 'rate': 27.1935}, {'onDate': '20210623', 'rate': 27.305}, {'onDate': '20210624', 'rate': 27.2737}, {'onDate': '20210625', 'rate': 27.4589}, {'onDate': '20210626', 'rate': 27.4589}, {'onDate': '20210627', 'rate': 27.4589}, {'onDate': '20210628', 'rate': 27.4589}, {'onDate': '20210629', 'rate': 27.3964}, {'onDate': '20210630', 'rate': 27.1763}, {'onDate': '20210701', 'rate': 27.2275}, {'onDate': '20210702', 'rate': 27.3841}, {'onDate': '20210703', 'rate': 27.3841}, {'onDate': '20210704', 'rate': 27.3841}, {'onDate': '20210705', 'rate': 27.4121}, {'onDate': '20210706', 'rate': 27.2904}, {'onDate': '20210707', 'rate': 27.2497}, {'onDate': '20210708', 'rate': 27.2993}, {'onDate': '20210709', 'rate': 27.2862}, {'onDate': '20210710', 'rate': 27.2862}, {'onDate': '20210711', 'rate': 27.2862}, {'onDate': '20210712', 'rate': 27.3234}, {'onDate': '20210713', 'rate': 27.2904}, {'onDate': '20210714', 'rate': 27.3216}, {'onDate': '20210715', 'rate': 27.3047}, {'onDate': '20210716', 'rate': 27.2905}, {'onDate': '20210717', 'rate': 27.2905}, {'onDate': '20210718', 'rate': 27.2905}, {'onDate': '20210719', 'rate': 27.2301}, {'onDate': '20210720', 'rate': 27.2132}, {'onDate': '20210721', 'rate': 27.2205}, {'onDate': '20210722', 'rate': 27.2405}, {'onDate': '20210723', 'rate': 27.1915}, {'onDate': '20210724', 'rate': 27.1915}, {'onDate': '20210725', 'rate': 27.1915}, {'onDate': '20210726', 'rate': 27.048}, {'onDate': '20210727', 'rate': 26.9805}, {'onDate': '20210728', 'rate': 26.906}, {'onDate': '20210729', 'rate': 26.8628}, {'onDate': '20210730', 'rate': 26.8867}, {'onDate': '20210731', 'rate': 26.8867}, {'onDate': '20210801', 'rate': 26.8867}, {'onDate': '20210802', 'rate': 26.8168}, {'onDate': '20210803', 'rate': 26.8444}, {'onDate': '20210804', 'rate': 26.8411}, {'onDate': '20210805', 'rate': 26.9094}, {'onDate': '20210806', 'rate': 26.9395}, {'onDate': '20210807', 'rate': 26.9395}, {'onDate': '20210808', 'rate': 26.9395}, {'onDate': '20210809', 'rate': 26.8346}, {'onDate': '20210810', 'rate': 26.8011}, {'onDate': '20210811', 'rate': 26.7557}, {'onDate': '20210812', 'rate': 26.8042}, {'onDate': '20210813', 'rate': 26.7686}, {'onDate': '20210814', 'rate': 26.7686}, {'onDate': '20210815', 'rate': 26.7686}, {'onDate': '20210816', 'rate': 26.6931}, {'onDate': '20210817', 'rate': 26.6457}, {'onDate': '20210818', 'rate': 26.6752}, {'onDate': '20210819', 'rate': 26.6455}, {'onDate': '20210820', 'rate': 26.6504}, {'onDate': '20210821', 'rate': 26.6504}, {'onDate': '20210822', 'rate': 26.6504}, {'onDate': '20210823', 'rate': 26.6504}, {'onDate': '20210824', 'rate': 26.6504}, {'onDate': '20210825', 'rate': 26.6718}, {'onDate': '20210826', 'rate': 26.7074}, {'onDate': '20210827', 'rate': 26.7744}, {'onDate': '20210828', 'rate': 26.929}, {'onDate': '20210829', 'rate': 26.929}, {'onDate': '20210830', 'rate': 26.929}, {'onDate': '20210831', 'rate': 26.8601}, {'onDate': '20210901', 'rate': 26.8928}, {'onDate': '20210902', 'rate': 27.0029}, {'onDate': '20210903', 'rate': 27.0247}, {'onDate': '20210904', 'rate': 27.0247}, {'onDate': '20210905', 'rate': 27.0247}, {'onDate': '20210906', 'rate': 26.9298}, {'onDate': '20210907', 'rate': 26.8102}, {'onDate': '20210908', 'rate': 26.7317}, {'onDate': '20210909', 'rate': 26.7452}, {'onDate': '20210910', 'rate': 26.7264}, {'onDate': '20210911', 'rate': 26.7264}, {'onDate': '20210912', 'rate': 26.7264}, {'onDate': '20210913', 'rate': 26.6782}, {'onDate': '20210914', 'rate': 26.692}, {'onDate': '20210915', 'rate': 26.6362}, {'onDate': '20210916', 'rate': 26.645}, {'onDate': '20210917', 'rate': 26.6672}, {'onDate': '20210918', 'rate': 26.6672}, {'onDate': '20210919', 'rate': 26.6672}, {'onDate': '20210920', 'rate': 26.7028}, {'onDate': '20210921', 'rate': 26.7072}, {'onDate': '20210922', 'rate': 26.7081}, {'onDate': '20210923', 'rate': 26.6714}, {'onDate': '20210924', 'rate': 26.5272}, {'onDate': '20210925', 'rate': 26.5272}, {'onDate': '20210926', 'rate': 26.5272}, {'onDate': '20210927', 'rate': 26.6422}, {'onDate': '20210928', 'rate': 26.6556}, {'onDate': '20210929', 'rate': 26.5698}, {'onDate': '20210930', 'rate': 26.576}, {'onDate': '20211001', 'rate': 26.6175}, {'onDate': '20211002', 'rate': 26.6175}, {'onDate': '20211003', 'rate': 26.6175}, {'onDate': '20211004', 'rate': 26.61}, {'onDate': '20211005', 'rate': 26.5722}, {'onDate': '20211006', 'rate': 26.4244}, {'onDate': '20211007', 'rate': 26.3503}, {'onDate': '20211008', 'rate': 26.3314}, {'onDate': '20211009', 'rate': 26.3314}, {'onDate': '20211010', 'rate': 26.3314}, {'onDate': '20211011', 'rate': 26.3515}, {'onDate': '20211012', 'rate': 26.36}, {'onDate': '20211013', 'rate': 26.349}, {'onDate': '20211014', 'rate': 26.349}, {'onDate': '20211015', 'rate': 26.349}, {'onDate': '20211016', 'rate': 26.349}, {'onDate': '20211017', 'rate': 26.349}, {'onDate': '20211018', 'rate': 26.3419}, {'onDate': '20211019', 'rate': 26.3356}, {'onDate': '20211020', 'rate': 26.272}, {'onDate': '20211021', 'rate': 26.2078}, {'onDate': '20211022', 'rate': 26.2016}, {'onDate': '20211023', 'rate': 26.2918}, {'onDate': '20211024', 'rate': 26.2918}, {'onDate': '20211025', 'rate': 26.2918}, {'onDate': '20211026', 'rate': 26.3509}, {'onDate': '20211027', 'rate': 26.419}, {'onDate': '20211028', 'rate': 26.3712}, {'onDate': '20211029', 'rate': 26.3265}, {'onDate': '20211030', 'rate': 26.3265}, {'onDate': '20211031', 'rate': 26.3265}, {'onDate': '20211101', 'rate': 26.2767}, {'onDate': '20211102', 'rate': 26.2933}, {'onDate': '20211103', 'rate': 26.2904}]\n",
      "Wall time: 28.4 s\n"
     ]
    }
   ],
   "source": [
    "%%time\n",
    "import requests as req\n",
    "from datetime import timedelta, date\n",
    "import json\n",
    "\n",
    "def getCurRateByDate(curCode, onDate):\n",
    "    URL = f\"https://bank.gov.ua/NBUStatService/v1/statdirectory/exchange?valcode={curCode}&date={onDate.strftime('%Y%m%d')}&json\"\n",
    "    res = req.get(URL).json() \n",
    "\n",
    "    if len(res) > 0:\n",
    "        try:\n",
    "            res = float(res[0][\"rate\"])\n",
    "        except:\n",
    "            res = None\n",
    "\n",
    "    return res        \n",
    "    \n",
    "curCode = \"USD\"\n",
    "i = 0\n",
    "onDate = date.today()\n",
    "startOfYear = date(2021, 1, 1)\n",
    "currencyList = []\n",
    "\n",
    "delta = date.today() - startOfYear\n",
    "\n",
    "if __name__ == '__main__':\n",
    "    while i <= delta.days: \n",
    "        onDate = (startOfYear + timedelta(days=+i))\n",
    "        #print(onDate.strftime(\"%Y%m%d\"))\n",
    "        URL = f\"https://bank.gov.ua/NBUStatService/v1/statdirectory/exchange?valcode={curCode}&date={onDate.strftime('%Y%m%d')}&json\"\n",
    "        currencyList.append({'onDate': onDate.strftime('%Y%m%d'), 'rate': getCurRateByDate(curCode, onDate)})\n",
    "        i += 1\n",
    "        \n",
    "print(currencyList)    \n"
   ]
  },
  {
   "cell_type": "markdown",
   "metadata": {},
   "source": [
    "3. Вивести середнє значення та відхилення курсу за кожний місяць."
   ]
  },
  {
   "cell_type": "code",
   "execution_count": 129,
   "metadata": {},
   "outputs": [
    {
     "name": "stdout",
     "output_type": "stream",
     "text": [
      "month: 1\n",
      "avg: 28.219770967741937\n",
      "avgDev: 0.95366171348047\n",
      "-------\n",
      "month: 2\n",
      "avg: 27.88466071428571\n",
      "avgDev: 0.9987920326041203\n",
      "-------\n",
      "month: 3\n",
      "avg: 27.79555806451613\n",
      "avgDev: 0.9492693258870749\n",
      "-------\n",
      "month: 4\n",
      "avg: 27.930006666666667\n",
      "avgDev: 0.9620182833805433\n",
      "-------\n",
      "month: 5\n",
      "avg: 27.602848387096767\n",
      "avgDev: 0.9419532225548386\n",
      "-------\n",
      "month: 6\n",
      "avg: 27.23987333333332\n",
      "avgDev: 0.952857532438288\n",
      "-------\n",
      "month: 7\n",
      "avg: 27.214548387096777\n",
      "avgDev: 0.9323683749482934\n",
      "-------\n",
      "month: 8\n",
      "avg: 26.78485483870967\n",
      "avgDev: 0.931344157776285\n",
      "-------\n",
      "month: 9\n",
      "avg: 26.727786666666663\n",
      "avgDev: 0.9416204462341753\n",
      "-------\n",
      "month: 10\n",
      "avg: 26.374677419354835\n",
      "avgDev: 0.9215800391407366\n",
      "-------\n",
      "month: 11\n",
      "avg: 26.275875\n",
      "avgDev: 2.5614117147087896\n",
      "-------\n",
      "Wall time: 23.7 s\n",
      "Parser   : 104 ms\n"
     ]
    }
   ],
   "source": [
    "%%time\n",
    "import requests as req\n",
    "from datetime import timedelta, date\n",
    "import json, math\n",
    "from functools import reduce\n",
    "\n",
    "def getCurRateByDate(curCode, onDate):\n",
    "    URL = f\"https://bank.gov.ua/NBUStatService/v1/statdirectory/exchange?valcode={curCode}&date={onDate.strftime('%Y%m%d')}&json\"\n",
    "    res = req.get(URL).json() \n",
    "\n",
    "    if len(res) > 0:\n",
    "        try:\n",
    "            res = float(res[0][\"rate\"])\n",
    "        except:\n",
    "            res = None\n",
    "\n",
    "    return res        \n",
    "    \n",
    "def getAvgRateByMonth(currencyList, y, m):\n",
    "    monthList = list(filter(lambda x: x[\"Date\"].month == m, currencyList))\n",
    "    ratesList = list(map(lambda x: float(x[\"rate\"]), monthList))\n",
    "    ratesSum = reduce(lambda x, y: x+y, ratesList)\n",
    "#    print(ratesList)\n",
    "    return ratesSum/len(ratesList)\n",
    "\n",
    "def getAvgDevRateByMonth(currencyList, y, m):\n",
    "    avgRate = getAvgRateByMonth(currencyList, y, m)\n",
    "    monthList = list(filter(lambda x: x[\"Date\"].month == m, currencyList))\n",
    "    ratesList = list(map(lambda x: float(x[\"rate\"]), monthList))\n",
    "    devRateSum = reduce(lambda x, y: y + (x - avgRate)**2, ratesList)\n",
    "    devRate = math.sqrt(devRateSum / len(ratesList))\n",
    "    return devRate\n",
    "    \n",
    "curCode = \"USD\"\n",
    "i = 0\n",
    "onDate = date.today()\n",
    "startOfYear = date(2021, 1, 1)\n",
    "currencyList = []\n",
    "monthsSet = set();\n",
    "\n",
    "delta = date.today() - startOfYear\n",
    "\n",
    "if __name__ == '__main__':\n",
    "    while i <= delta.days: \n",
    "        onDate = (startOfYear + timedelta(days=+i))\n",
    "        monthsSet.add(onDate.month)\n",
    "        #print(onDate.strftime(\"%Y%m%d\"))\n",
    "        URL = f\"https://bank.gov.ua/NBUStatService/v1/statdirectory/exchange?valcode={curCode}&date={onDate.strftime('%Y%m%d')}&json\"\n",
    "        currencyList.append({'onDate': onDate.strftime('%Y%m%d'), 'Date': onDate, 'rate': getCurRateByDate(curCode, onDate)})\n",
    "        i += 1\n",
    "        \n",
    "for m in monthsSet:\n",
    "    print('month:', m)\n",
    "    print('avg:', getAvgRateByMonth(currencyList, startOfYear.year, m))\n",
    "    print('avgDev:', getAvgDevRateByMonth(currencyList, startOfYear.year, m))\n",
    "    print('-------')\n",
    "# print(currencyList) \n",
    "# print(monthsSet)\n"
   ]
  },
  {
   "cell_type": "markdown",
   "metadata": {},
   "source": [
    "4. Дану інформацію записати у файл за допомогою pickle."
   ]
  },
  {
   "cell_type": "code",
   "execution_count": 134,
   "metadata": {},
   "outputs": [
    {
     "name": "stdout",
     "output_type": "stream",
     "text": [
      "ratesFileContent: [{'month': 1, 'avg': 28.219770967741937, 'avgDev': 0.95366171348047}, {'month': 2, 'avg': 27.88466071428571, 'avgDev': 0.9987920326041203}, {'month': 3, 'avg': 27.79555806451613, 'avgDev': 0.9492693258870749}, {'month': 4, 'avg': 27.930006666666667, 'avgDev': 0.9620182833805433}, {'month': 5, 'avg': 27.602848387096767, 'avgDev': 0.9419532225548386}, {'month': 6, 'avg': 27.23987333333332, 'avgDev': 0.952857532438288}, {'month': 7, 'avg': 27.214548387096777, 'avgDev': 0.9323683749482934}, {'month': 8, 'avg': 26.78485483870967, 'avgDev': 0.931344157776285}, {'month': 9, 'avg': 26.727786666666663, 'avgDev': 0.9416204462341753}, {'month': 10, 'avg': 26.374677419354835, 'avgDev': 0.9215800391407366}, {'month': 11, 'avg': 26.275875, 'avgDev': 2.5614117147087896}]\n",
      "Wall time: 19.7 s\n"
     ]
    }
   ],
   "source": [
    "%%time\n",
    "import requests as req\n",
    "from datetime import timedelta, date\n",
    "import json, math, pickle\n",
    "from functools import reduce\n",
    "\n",
    "def getCurRateByDate(curCode, onDate):\n",
    "    URL = f\"https://bank.gov.ua/NBUStatService/v1/statdirectory/exchange?valcode={curCode}&date={onDate.strftime('%Y%m%d')}&json\"\n",
    "    res = req.get(URL).json() \n",
    "\n",
    "    if len(res) > 0:\n",
    "        try:\n",
    "            res = float(res[0][\"rate\"])\n",
    "        except:\n",
    "            res = None\n",
    "\n",
    "    return res        \n",
    "    \n",
    "def getAvgRateByMonth(currencyList, y, m):\n",
    "    monthList = list(filter(lambda x: x[\"Date\"].month == m, currencyList))\n",
    "    ratesList = list(map(lambda x: float(x[\"rate\"]), monthList))\n",
    "    ratesSum = reduce(lambda x, y: x+y, ratesList)\n",
    "#    print(ratesList)\n",
    "    return ratesSum/len(ratesList)\n",
    "\n",
    "def getAvgDevRateByMonth(currencyList, y, m):\n",
    "    avgRate = getAvgRateByMonth(currencyList, y, m)\n",
    "    monthList = list(filter(lambda x: x[\"Date\"].month == m, currencyList))\n",
    "    ratesList = list(map(lambda x: float(x[\"rate\"]), monthList))\n",
    "    devRateSum = reduce(lambda x, y: y + (x - avgRate)**2, ratesList)\n",
    "    devRate = math.sqrt(devRateSum / len(ratesList))\n",
    "    return devRate\n",
    "    \n",
    "curCode = \"USD\"\n",
    "i = 0\n",
    "onDate = date.today()\n",
    "startOfYear = date(2021, 1, 1)\n",
    "currencyList = []\n",
    "monthsSet = set();\n",
    "\n",
    "delta = date.today() - startOfYear\n",
    "\n",
    "if __name__ == '__main__':\n",
    "    while i <= delta.days: \n",
    "        onDate = (startOfYear + timedelta(days=+i))\n",
    "        monthsSet.add(onDate.month)\n",
    "        #print(onDate.strftime(\"%Y%m%d\"))\n",
    "        URL = f\"https://bank.gov.ua/NBUStatService/v1/statdirectory/exchange?valcode={curCode}&date={onDate.strftime('%Y%m%d')}&json\"\n",
    "        currencyList.append({'onDate': onDate.strftime('%Y%m%d'), 'Date': onDate, 'rate': getCurRateByDate(curCode, onDate)})\n",
    "        i += 1\n",
    "        \n",
    "    resList = []        \n",
    "    for m in monthsSet:\n",
    "        resList.append({'month': m, \n",
    "                        'avg' : getAvgRateByMonth(currencyList, startOfYear.year, m), \n",
    "                        'avgDev': getAvgDevRateByMonth(currencyList, startOfYear.year, m)})\n",
    "\n",
    "    filename = 'ratesFile'\n",
    "    outfile = open(filename,'wb')\n",
    "\n",
    "    pickle.dump(resList, outfile)\n",
    "    outfile.close()\n",
    "\n",
    "    infile = open(filename,'rb')\n",
    "    ratesFileContent = pickle.load(infile)\n",
    "\n",
    "    print('ratesFileContent:', ratesFileContent)\n",
    "    infile.close()\n",
    "\n",
    "# print(currencyList) \n",
    "# print(monthsSet)\n"
   ]
  },
  {
   "cell_type": "markdown",
   "metadata": {},
   "source": [
    "### Завдання 2:"
   ]
  },
  {
   "cell_type": "markdown",
   "metadata": {},
   "source": [
    "Потрібно проаналізувати всі товари на сайті: \n",
    "https://smallpacking.agrosem.ua/shop/"
   ]
  },
  {
   "cell_type": "markdown",
   "metadata": {},
   "source": [
    "Створіть базу даних, що містить таблицю із такими стовбцями: \n",
    "    - артикул товару\n",
    "    - найменування\n",
    "    - ціна \n",
    "    - вага"
   ]
  },
  {
   "cell_type": "code",
   "execution_count": 5,
   "metadata": {},
   "outputs": [
    {
     "name": "stdout",
     "output_type": "stream",
     "text": [
      "------ 1\n",
      "Page: 1 Goods: 12\n",
      "------ 2\n",
      "Page: 2 Goods: 12\n",
      "------ 3\n",
      "Page: 3 Goods: 12\n",
      "------ 4\n",
      "Page: 4 Goods: 12\n",
      "------ 5\n",
      "Page: 5 Goods: 12\n",
      "------ 6\n",
      "Page: 6 Goods: 12\n",
      "------ 7\n",
      "Page: 7 Goods: 12\n",
      "------ 8\n",
      "Page: 8 Goods: 12\n",
      "------ 9\n",
      "Page: 9 Goods: 12\n",
      "------ 10\n",
      "Page: 10 Goods: 12\n",
      "------ 11\n",
      "Page: 11 Goods: 12\n",
      "------ 12\n",
      "Page: 12 Goods: 12\n",
      "------ 13\n",
      "Page: 13 Goods: 12\n",
      "------ 14\n",
      "Page: 14 Goods: 12\n",
      "------ 15\n",
      "Page: 15 Goods: 12\n",
      "------ 16\n",
      "Page: 16 Goods: 12\n",
      "------ 17\n",
      "Page: 17 Goods: 12\n",
      "------ 18\n",
      "Page: 18 Goods: 12\n",
      "------ 19\n",
      "Page: 19 Goods: 12\n",
      "------ 20\n",
      "Page: 20 Goods: 1\n",
      "done\n",
      "[(42522, '8Х288КЛДМ (високоолеїновий)', 0.0, 0.0), (66336, '8Х477КЛ (високоолеїновий)', 0.0, 0.0), (91797, 'AMELIOR (ФАО 240)', 0.0, 0.0), (28164, 'Ferticare Hydro 6-14-30 + micro', 1700.0, 25.0), (66353, 'Ferticare Kombi 14-11-25 + micro', 1700.0, 25.0), (39566, 'MagPlon K (нітрат калію)', 900.0, 25.0), (94424, 'MAS 10.A (ФАО 180)', 0.0, 0.0), (94116, 'MAS 15.T (ФАО 220)', 0.0, 0.0), (63652, 'MAS 18.L (ФАО 210)', 0.0, 0.0), (79663, 'MAS 20.A (ФАО 230) – Ексклюзивний гібрид ТОВ «АГРОСЕМ»', 0.0, 0.0), (88745, 'MAS 20.F (ФАО 230)', 0.0, 0.0), (65361, 'MAS 23.K (ФАО 220)', 0.0, 0.0), (23893, 'MAS 24.С (ФАО 260)', 0.0, 0.0), (49148, 'MAS 25.F (ФАО 250)', 0.0, 0.0), (48722, 'MAS 28.A (ФАО 270)', 0.0, 0.0), (71611, 'MAS 30.M (ФАО 310)', 0.0, 0.0), (26429, 'MAS 30.К (ФАО 280)', 0.0, 0.0), (78789, 'MAS 33.А (ФАО 320)', 0.0, 0.0), (88291, 'MAS 35.К (ФАО 360)', 0.0, 0.0), (87587, 'MAS 36.А (ФАО 300)', 0.0, 0.0), (98914, 'MAS 37.V (ФАО 340)', 0.0, 0.0), (38175, 'MAS 39.Т (ФАО 350)', 0.0, 0.0), (89828, 'MAS 40.F (ФАО 390)', 0.0, 0.0), (76368, 'MAS 44.А (ФАО 380)', 0.0, 0.0), (77181, 'MAS 45.M (ФАО 440)', 0.0, 0.0), (74396, 'MAS 47.Р (ФАО 400)', 0.0, 0.0), (86827, 'MAS 80.IR', 0.0, 0.0), (76355, 'MAS 81.C', 0.0, 0.0), (22865, 'MAS 81.K', 0.0, 0.0), (59822, 'MAS 82.A', 0.0, 0.0), (58278, 'MAS 83.OL', 0.0, 0.0), (12575, 'MAS 83.R', 0.0, 0.0), (94287, 'MAS 85.SU', 0.0, 0.0), (11182, 'MAS 86.CP', 0.0, 0.0), (35624, 'MAS 86.OL', 0.0, 0.0), (52655, 'MAS 87.A', 0.0, 0.0), (36295, 'MAS 87.IR', 0.0, 0.0), (46994, 'MAS 89.IR', 0.0, 0.0), (54199, 'MAS 89.M', 0.0, 0.0), (34872, 'MAS 90.F', 0.0, 0.0), (82368, 'MAS 91.G', 0.0, 0.0), (33229, 'MAS 92.CP', 0.0, 0.0), (38959, 'MAS 93.CP', 0.0, 0.0), (85189, 'MAS 96.P', 0.0, 0.0), (99418, 'MAS 97.А', 0.0, 0.0), (69156, 'Pulan 34.4', 5900.0, 600.0), (74266, 'Saletrosan®26', 5300.0, 500.0), (26252, 'Saletrosan®30', 5200.0, 500.0), (67325, 'Saletrzak 27 macro', 3400.0, 500.0), (76913, 'Siarczan AS 21 Macro', 4300.0, 500.0), (67641, 'VASILI (ФАО 250)', 0.0, 0.0), (51667, 'Yara Liva Кальциніт', 550.0, 25.0), (95975, 'Yara Liva Нітрабор', 550.0, 25.0), (93119, 'YaraBela Сульфан', 8900.0, 600.0), (35951, 'YaraIrix', 18000.0, 0.0), (21521, 'YaraMila Complex 12-11-18', 899.0, 25.0), (31357, 'YaraMila Cropcare 11-11-21', 899.0, 25.0), (47993, 'YaraMila NP 20-20 +9,0SO3', 13200.0, 600.0), (89147, 'YaraMila NPK 12-24-12', 15800.0, 600.0), (84721, 'YaraMila NPK 16-16-16', 13700.0, 600.0), (63243, 'YaraMila NPK 16-27-7', 16800.0, 600.0), (24963, 'YaraMila NPK 18-11-13', 12500.0, 600.0), (24344, 'YaraMila NPK 7-20-28', 16000.0, 600.0), (64776, 'YaraMila NPK 8-24-24', 15600.0, 600.0), (66872, 'YaraMila NPK 9-12-25 + 2MgO + 6,5SO3 + micro', 13800.0, 600.0), (19571, 'YaraTera SOP (сульфат калію)', 1000.0, 25.0), (16332, 'YaraVita Rexolin ABC (комплекс мікроелементів)', 2000.0, 5.0), (77348, 'YaraVita Rexolin D12 (хелат заліза)', 2000.0, 5.0), (76429, 'YaraVita Бортрак', 1750.0, 0.0), (13111, 'YaraVita Брасітрел Про', 2100.0, 0.0), (62796, 'YaraVita Грамітрел', 2200.0, 0.0), (79615, 'YaraVita КомбіФос', 1900.0, 0.0), (47133, 'YaraVita Манкоцин', 1500.0, 0.0), (37314, 'YaraVita Мантрак Про', 1700.0, 0.0), (22322, 'YaraVita Меїз Буст', 2700.0, 0.0), (42617, 'YaraVita Молітрак', 6600.0, 0.0), (94157, 'YaraVita Тепросин NP+Zn', 3000.0, 0.0), (78528, 'YaraVita Тіотрак', 1300.0, 0.0), (97554, 'YaraVita Фосамко Біо', 1200.0, 0.0), (93579, 'YaraVita Цинтрак', 1900.0, 0.0), (15119, 'Альваро КВС, насіння озимого ріпаку, 2019 р. врожаю', 5000.0, 0.0), (78664, 'Альваро КВС, насіння озимого ріпаку, 2020 р. врожаю', 5700.0, 0.0), (32246, 'АМАРОС (ФАО 230)', 0.0, 0.0), (21173, 'БОГАТИР (ФАО 290)', 0.0, 0.0), (92995, 'ГАРМОНІУМ (ФАО 380)', 0.0, 0.0), (92478, 'Гибрікок KWS, 2019 р. врожаю', 4500.0, 0.0), (45875, 'Гибрікок KWS, 2020 р. врожаю', 5500.0, 0.0), (13478, 'ДА СОНКА (ФАО 350)', 0.0, 0.0), (97543, 'ДС0336 (ФАО 310)', 0.0, 0.0), (22661, 'ДС0493Б (ФАО 250)', 0.0, 0.0), (25441, 'ДС0918Б (ФАО 270)', 0.0, 0.0), (79977, 'ДС1202Б (ФАО 260)', 0.0, 0.0), (36989, 'ДС1304С (ФАО 350)', 0.0, 0.0), (57866, 'ДСЛ402', 0.0, 0.0), (31679, 'ДСХ403 (високоолеїновий)', 0.0, 0.0), (95642, 'ЕС АНДРОМЕДА', 0.0, 0.0), (56446, 'ЕС АРГЕНТІК', 0.0, 0.0), (45418, 'ЕС АРКАДІЯ СУ', 0.0, 0.0), (65651, 'ЕС АРОМАТІК СУ', 0.0, 0.0), (64934, 'ЕС АСТЕРОІД (ФАО 290)', 0.0, 0.0), (37339, 'ЕС БЕЛЛА', 0.0, 0.0), (43984, 'ЕС ВЕРОНІКА', 0.0, 0.0), (13959, 'ЕС ГЕНЕЗІС', 0.0, 0.0), (64464, 'ЕС ГЕНЕРАЛІС СЛ', 0.0, 0.0), (23171, 'ЕС ГРАФІК СЛ', 0.0, 0.0), (82241, 'ЕС ІЗІДА', 0.0, 0.0), (89273, 'ЕС ІНВЕНТІВ (ФАО 300)', 0.0, 0.0), (61625, 'ЕС КОНКОРД (ФАО 250)', 0.0, 0.0), (52329, 'ЕС КРЕАТИВ (ФАО 300)', 0.0, 0.0), (29897, 'ЕС КРОССМАН (ФАО 240)', 0.0, 0.0), (18262, 'ЕС МЕЙФЛАВЕР (ФАО 330)', 0.0, 0.0), (74919, 'ЕС МЕТОД (ФАО 380)', 0.0, 0.0), (93843, 'ЕС МІЛОРД (ФАО 380)', 0.0, 0.0), (56874, 'ЕС МОСКІТО (ФАО 350)', 0.0, 0.0), (22374, 'ЕС НІАГАРА', 0.0, 0.0), (41839, 'ЕС НОВАМІС СЛ', 0.0, 0.0), (58715, 'ЕС РОЗАЛІЯ', 0.0, 0.0), (51976, 'ЕС РОМАНТИК', 0.0, 0.0), (72952, 'ЕС САВАНА', 0.0, 0.0), (99252, 'ЕС СЕНСОР (ФАО 370)', 0.0, 0.0), (83792, 'ЕС ТЕРРАМІС ЕС', 0.0, 0.0), (41618, 'ЕС ФАРАДЕЙ (ФАО 350)', 0.0, 0.0), (63976, 'ЕС ХЕМІНГУЕЙ (ФАО 280)', 0.0, 0.0), (86472, 'ЕС ЯНІС', 0.0, 0.0), (81892, 'Етерно КВС, насіння озимого жита', 2200.0, 0.0), (91815, 'Етерно КВС, насіння озимого жита', 53000.0, 0.0), (31292, 'Етерно КВС, насіння озимого жита', 50000.0, 0.0), (42579, 'Етерно КВС, насіння озимого жита, протруєне', 56000.0, 0.0), (68438, 'Кrista MAG (нітрат магнію)', 700.0, 25.0), (66368, 'Кrista К (нітрат калію)', 1200.0, 25.0), (34254, 'Кrista МАР (моноамоній фосфат)', 1200.0, 25.0), (34559, 'Кrista МКР (монокалій фосфат)', 1600.0, 25.0), (97462, 'КАВАЛЕР (ФАО 250), UNIQUEDENT', 0.0, 0.0), (36687, 'КАНЬЙОНС (ФАО 230), UNIQUEDENT', 0.0, 0.0), (33481, 'КАРІФОЛС (ФАО 380)', 0.0, 0.0), (23512, 'КАРПАТІС (ФАО 340)', 0.0, 0.0), (73738, 'КВС 2323 (ФАО 260), UNIQUEDENT', 0.0, 0.0), (72269, 'КВС 2370 (ФАО 280), UNIQUEDENT', 0.0, 0.0), (86812, 'КВС 381 (ФАО 350)', 0.0, 0.0), (73646, 'КВС 4484 (ФАО 370)', 0.0, 0.0), (52126, 'КВС АСЕР КЛ', 0.0, 0.0), (56714, 'КВС Боно, насіння озимого жита', 49000.0, 0.0), (56312, 'КВС ДРАГОН', 0.0, 0.0), (35619, 'КВС КАШЕМІР (ФАО 380)', 0.0, 0.0), (13315, 'КВС КУМПАН (ФАО 290), UNIQUEDENT', 0.0, 0.0), (63683, 'КВС Магніфіко, насіння озимого жита на силос', 1900.0, 0.0), (61723, 'КВС Магніфіко, насіння озимого жита на силос', 46000.0, 0.0), (12789, 'КВС Пропауер, насіння озимого жита', 55000.0, 0.0), (62997, 'КВС Тайо, насіння озимого жита', 55000.0, 0.0), (27946, 'КВС Феррі, озимий ріпак, 2020 р. врожаю', 6000.0, 0.0), (24669, 'КЕЛТІКУС (ФАО 270), UNIQUEDENT', 0.0, 0.0), (46895, 'КЕРБЕРОС (ФАО 310)', 0.0, 0.0), (31643, 'КРАБАС (ФАО 300)', 0.0, 0.0), (38994, 'МАРК КВС, 2019 р. врожаю', 5000.0, 0.0), (99753, 'МАРК КВС, 2020 р. врожаю', 5700.0, 0.0), (66675, 'МТ МАТАДО (ФАО 380)', 0.0, 0.0), (87931, 'Озимий ріпак Фактор КВС, 2019 р. врожаю, ексклюзив «Агросем»', 5200.0, 0.0), (38134, 'Озимий ріпак Фактор КВС, 2020 р. врожаю, ексклюзив «Агросем»', 5800.0, 0.0), (25875, 'П63ЛЕ10', 0.0, 0.0), (71288, 'П63ЛЛ124', 0.0, 0.0), (64383, 'П64ГЕ133 (високоолеїновий)', 0.0, 0.0), (51733, 'П64ЛЕ99', 0.0, 0.0), (28239, 'П64ЛЦ108', 0.0, 0.0), (99157, 'П8025 (ФАО 230)', 0.0, 0.0), (67726, 'П8409 (ФАО 260)', 0.0, 0.0), (92512, 'П8723 (ФАО 280)', 0.0, 0.0), (25371, 'П9025 (ФАО 330)', 0.0, 0.0), (52787, 'П9486 (ФАО 340)', 0.0, 0.0), (93768, 'ПX113, озимий ріпак', 5800.0, 0.0), (32979, 'ПX128, озимий ріпак', 7000.0, 0.0), (27795, 'ПР44Д06, озимий ріпак', 6400.0, 0.0), (29272, 'ПР46В21, озимий ріпак', 5800.0, 0.0), (67125, 'ПТ200КЛ, озимий ріпак', 7000.0, 0.0), (41695, 'ПТ234, озимий ріпак', 5800.0, 0.0), (84913, 'ПТ248, озимий ріпак', 6600.0, 0.0), (94498, 'ПТ264, озимий ріпак', 7000.0, 0.0), (45838, 'ПТ269, озимий ріпак', 6700.0, 0.0), (66139, 'ПТ271, озимий ріпак', 7000.0, 0.0), (87933, 'ПТ275, озимий ріпак', 7000.0, 0.0), (14888, 'ПТ279КЛ, озимий ріпак', 7400.0, 0.0), (87376, 'ПХ125КЛ, озимий ріпак', 7000.0, 0.0), (14592, 'ПХ131, озимий ріпак', 7000.0, 0.0), (65157, 'Сульфат магнію (семиводневий)', 320.0, 25.0), (76265, 'Сульфат магнію гранульований', 9500.0, 1000.0), (75575, 'Сульфат магнію Яра Krista MgS', 400.0, 0.0), (61746, 'СУРРЕАЛ (ФАО 370)', 0.0, 0.0), (33632, 'Умберто КВС, насіння озимого ріпаку, 2019 р. врожаю', 5200.0, 0.0), (88369, 'Умберто КВС, насіння озимого ріпаку, 2020 р. врожаю', 5800.0, 0.0), (55781, 'Яра (Folicare) NPK 10-5-40+micro', 1600.0, 25.0), (65565, 'Яра (Folicare) NPK 12-0-38', 1700.0, 25.0), (88381, 'Яра (Folicare) NPK 12-46-8+micro', 1800.0, 25.0), (91621, 'Яра (Folicare) NPK 18-18-18+micro', 1700.0, 25.0), (68487, 'Яра (Folicare) NPK 22-5-22+micro', 1600.0, 25.0), (35486, 'Яра Ferticare Tomato', 1600.0, 25.0), (71533, 'Яра Ferticare Овочі', 1600.0, 25.0), (439226, 'Добриво для фруктових та горіхових дерев', 415.0, 3.0), (1297, 'Добриво для ягідних чагарників', 415.0, 3.0), (91897, 'Добриво для ягідних чагарників', 173.0, 1.0), (61169, 'Добриво універсальне грунтове', 173.0, 1.0), (6651824, 'Добриво універсальне грунтове', 415.0, 3.0), (5227876, 'Добриво універсальне грунтове', 1149.0, 10.0), (32237, 'Добриво для декоративних листових', 415.0, 3.0), (4165215, 'Добриво для вічнозелених дерев та кущів', 1149.0, 10.0), (682645, 'Добриво універсальне грунтове', 415.0, 3.0), (7435, 'Добриво універсальне грунтове', 173.0, 1.0), (9354141, 'Добриво для газону', 415.0, 3.0), (1955, 'Добриво для вічнозелених дерев та кущів', 173.0, 1.0), (455799, 'Добриво для газону', 173.0, 1.0), (991645, 'Добриво для декоративних листових', 173.0, 1.0), (17477, 'Добриво універсальне грунтове', 1149.0, 10.0), (7143174, 'Добриво для газону', 415.0, 3.0), (3593, 'Добриво для полуниці', 173.0, 1.0), (4738184, 'Добриво для вічнозелених дерев та кущів', 415.0, 3.0), (3177412, 'Добриво для фруктових та горіхових дерев', 173.0, 1.0), (16762, 'Добриво для газону', 1149.0, 10.0), (78747, 'Добриво для декоративних листових', 415.0, 3.0), (5218, 'Добриво для вічнозелених дерев та кущів', 1149.0, 10.0), (33486, 'Добриво для декоративних листових', 173.0, 1.0), (198742, 'Добриво для овочів', 415.0, 3.0), (797756, 'Добриво для винограду', 173.0, 1.0), (726319, 'Добриво для вічнозелених дерев та кущів', 415.0, 3.0), (789868, 'Добриво для газону', 173.0, 1.0), (88255, 'Добриво для овочів', 173.0, 1.0), (68183, 'Добриво для розсади', 173.0, 1.0), (5656841, 'Добриво для тепличних овочів', 415.0, 3.0), (2217672, 'Добриво для троянд', 173.0, 1.0), (8362626, 'Добриво для вічнозелених дерев та кущів', 173.0, 1.0), (375738, 'Добриво для газону', 1149.0, 10.0), (51561, 'Добриво для тепличних овочів', 173.0, 1.0)]\n"
     ]
    }
   ],
   "source": [
    "import requests as req\n",
    "from bs4 import BeautifulSoup\n",
    "import sqlite3 as sql;\n",
    "\n",
    "def initDB():\n",
    "    cn = sql.connect('test.db')\n",
    "    cursor = cn.cursor()\n",
    "    cursor.execute('CREATE TABLE IF NOT EXISTS Goods(PK INTEGER PRIMARY KEY AUTOINCREMENT, Art NUMBER, Name TEXT, Price REAL, Weight REAL)')\n",
    "    cn.close()\n",
    "    \n",
    "def insertRow(params):\n",
    "    #Art, Name, Price, Weight\n",
    "    cn = sql.connect('test.db')\n",
    "    rs = cn.cursor()\n",
    "    rs.execute(' INSERT INTO Goods VALUES(?,?,?,?) ', params)\n",
    "    cn.commit()\n",
    "    cn.close()\n",
    "    \n",
    "def selectAll():\n",
    "    cn = sql.connect('test.db')\n",
    "    rs = cn.cursor()\n",
    "    rs.execute(' SELECT * FROM Goods; ')\n",
    "    print(rs.fetchall())\n",
    "    cn.close()\n",
    "    \n",
    "if __name__ == '__main__':\n",
    "    pageNo = 0\n",
    "    initDB()\n",
    "    \n",
    "    while True:\n",
    "        pageNo +=1\n",
    "        URL = f\"https://smallpacking.agrosem.ua/shop/page/{pageNo}\"\n",
    "        page = req.get(URL)\n",
    "        if page.status_code == 200:\n",
    "            soup = BeautifulSoup(page.content, \"html.parser\")\n",
    "            goodsBlock = soup.find(\"div\", class_=\"product-category-wrapper\").find_all(\"div\", class_=\"product-from-category-container\")\n",
    "            print('------', pageNo)\n",
    "            if len(goodsBlock) > 0:\n",
    "     #           goodsList = goodsBlock\n",
    "                print(\"Page:\", pageNo, 'Goods:', len(goodsBlock))\n",
    "                for good in goodsBlock:\n",
    "                    goodLink = good.a[\"href\"]\n",
    "                    if len(goodLink) > 0 :\n",
    "                        goodPage = req.get(goodLink)\n",
    "                        soupGood = BeautifulSoup(goodPage.content, \"html.parser\")\n",
    "                        #print(soupGood)\n",
    "                        goodAttr = soupGood.find(\"div\", class_=\"atributes-description\")\n",
    "                        goodArt = goodAttr.find(\"span\", {\"itemprop\" : \"productID\", \"class\" : \"sku\"}).text.replace('SKU: ', \"\")\n",
    "                        goodName = goodAttr.h2.text\n",
    "                        goodPrice = goodAttr.findAll(\"span\", {\"class\" : \"regular-price\"})[0].text.replace(\"грн\", \"\").replace(\" \", \"\")\n",
    "                        goodPrice = float(goodPrice) if goodPrice.isnumeric() else float(0)\n",
    "                        goodWeight = goodAttr.find(\"tr\", {\"class\" : \"woocommerce-product-attributes-item woocommerce-product-attributes-item--attribute_pa_vaga\"})\n",
    "                        if goodWeight != None :\n",
    "                            goodWeight = goodWeight.td.p.text.replace(\"кг\", \"\").replace(\" \", \"\")\n",
    "                            goodWeight = float(goodWeight) if goodWeight.isnumeric() else float(0)  \n",
    "                        else :\n",
    "                            goodWeight = float(0)\n",
    "                        \n",
    "                        insertRow((goodArt, goodName, goodPrice, goodWeight))\n",
    "                        #print(\"goodArt:\", (goodArt, goodName, goodPrice, goodWeight))\n",
    "\n",
    "                    #print(goodLink)\n",
    "                    #артикул товару - \n",
    "                    #найменування - \n",
    "                    #ціна - \n",
    "                    #вага\n",
    "        else:\n",
    "            print('done')\n",
    "            break;\n",
    "\n",
    "    selectAll()            \n",
    "#print(page.content, page)"
   ]
  },
  {
   "cell_type": "markdown",
   "metadata": {},
   "source": [
    "### Завдання 3: "
   ]
  },
  {
   "cell_type": "markdown",
   "metadata": {},
   "source": [
    "Ознайомтеся із роботою SQLite та відповідним модулем у Python.\n",
    "Завантажте базу даних для виконання лабораторної роботи.\n",
    "Підключіться до завантаженої бази SQLite."
   ]
  },
  {
   "cell_type": "markdown",
   "metadata": {},
   "source": [
    "1. Виведіть інформацію про дану базу."
   ]
  },
  {
   "cell_type": "code",
   "execution_count": 6,
   "metadata": {},
   "outputs": [
    {
     "name": "stdout",
     "output_type": "stream",
     "text": [
      "3.35.4\n",
      "[(0, 'main', 'C:\\\\Users\\\\Paul\\\\DataScience\\\\Lab work 4\\\\tysql.db')]\n",
      "[('table', 'Customers', 'Customers', 2, 'CREATE TABLE \"Customers\" (\\r\\n\\t\"cust_id\"\\tchar(10) NOT NULL,\\r\\n\\t\"cust_name\"\\tchar(50) NOT NULL,\\r\\n\\t\"cust_address\"\\tchar(50),\\r\\n\\t\"cust_city\"\\tchar(50),\\r\\n\\t\"cust_state\"\\tchar(5),\\r\\n\\t\"cust_zip\"\\tchar(10),\\r\\n\\t\"cust_country\"\\tchar(50),\\r\\n\\t\"cust_contact\"\\tchar(50),\\r\\n\\t\"cust_email\"\\tchar(255),\\r\\n\\tPRIMARY KEY(\"cust_id\")\\r\\n)'), ('index', 'sqlite_autoindex_Customers_1', 'Customers', 3, None), ('table', 'OrderItems', 'OrderItems', 4, 'CREATE TABLE \"OrderItems\" (\\r\\n\\t\"order_num\"\\tint NOT NULL,\\r\\n\\t\"order_item\"\\tint NOT NULL,\\r\\n\\t\"prod_id\"\\tchar(10) NOT NULL,\\r\\n\\t\"quantity\"\\tint NOT NULL,\\r\\n\\t\"item_price\"\\tdecimal(8, 2) NOT NULL,\\r\\n\\tPRIMARY KEY(\"order_num\",\"order_item\"),\\r\\n\\tFOREIGN KEY(\"order_num\") REFERENCES \"Orders\"(\"order_num\"),\\r\\n\\tFOREIGN KEY(\"prod_id\") REFERENCES \"Products\"(\"prod_id\")\\r\\n)'), ('index', 'sqlite_autoindex_OrderItems_1', 'OrderItems', 5, None), ('table', 'Orders', 'Orders', 6, 'CREATE TABLE \"Orders\" (\\r\\n\\t\"order_num\"\\tint NOT NULL,\\r\\n\\t\"order_date\"\\tdatetime NOT NULL,\\r\\n\\t\"cust_id\"\\tchar(10) NOT NULL,\\r\\n\\tPRIMARY KEY(\"order_num\"),\\r\\n\\tFOREIGN KEY(\"cust_id\") REFERENCES \"Customers\"(\"cust_id\")\\r\\n)'), ('index', 'sqlite_autoindex_Orders_1', 'Orders', 7, None), ('table', 'Products', 'Products', 8, 'CREATE TABLE \"Products\" (\\r\\n\\t\"prod_id\"\\tchar(10) NOT NULL,\\r\\n\\t\"vend_id\"\\tchar(10) NOT NULL,\\r\\n\\t\"prod_name\"\\tchar(255) NOT NULL,\\r\\n\\t\"prod_price\"\\tdecimal(8, 2) NOT NULL,\\r\\n\\t\"prod_desc\"\\ttext,\\r\\n\\tPRIMARY KEY(\"prod_id\"),\\r\\n\\tFOREIGN KEY(\"vend_id\") REFERENCES \"Vendors\"(\"vend_id\")\\r\\n)'), ('index', 'sqlite_autoindex_Products_1', 'Products', 9, None), ('table', 'Vendors', 'Vendors', 10, 'CREATE TABLE \"Vendors\" (\\r\\n\\t\"vend_id\"\\tchar(10) NOT NULL,\\r\\n\\t\"vend_name\"\\tchar(50) NOT NULL,\\r\\n\\t\"vend_address\"\\tchar(50),\\r\\n\\t\"vend_city\"\\tchar(50),\\r\\n\\t\"vend_state\"\\tchar(5),\\r\\n\\t\"vend_zip\"\\tchar(10),\\r\\n\\t\"vend_country\"\\tchar(50),\\r\\n\\tPRIMARY KEY(\"vend_id\")\\r\\n)'), ('index', 'sqlite_autoindex_Vendors_1', 'Vendors', 11, None)]\n"
     ]
    }
   ],
   "source": [
    "import sqlite3 as sql;\n",
    "print(sql.sqlite_version);\n",
    "cn = sql.connect('tysql.db')\n",
    "sql_str = ''' PRAGMA database_list; '''\n",
    "rs = cn.cursor().execute(sql_str).fetchall();\n",
    "print(rs)\n",
    "sql_str = '''SELECT * FROM sqlite_master'''\n",
    "rs = cn.cursor().execute(sql_str).fetchall();\n",
    "print(rs)"
   ]
  },
  {
   "cell_type": "markdown",
   "metadata": {},
   "source": [
    "2. Виведіть перелік всіх таблиць."
   ]
  },
  {
   "cell_type": "code",
   "execution_count": 18,
   "metadata": {},
   "outputs": [
    {
     "name": "stdout",
     "output_type": "stream",
     "text": [
      "[('Customers',), ('OrderItems',), ('Orders',), ('Products',), ('Vendors',)]\n"
     ]
    }
   ],
   "source": [
    "import sqlite3 as sql;\n",
    "cn = sql.connect('tysql.db')\n",
    "cursor = cn.cursor()\n",
    "cursor.execute(\"SELECT name FROM sqlite_master WHERE type='table';\")\n",
    "print(cursor.fetchall())"
   ]
  },
  {
   "cell_type": "markdown",
   "metadata": {},
   "source": [
    "3. Список всіх cust_id з таблиці Customers table."
   ]
  },
  {
   "cell_type": "code",
   "execution_count": 19,
   "metadata": {},
   "outputs": [
    {
     "name": "stdout",
     "output_type": "stream",
     "text": [
      "[('1000000001',), ('1000000002',), ('1000000003',), ('1000000004',), ('1000000005',)]\n"
     ]
    }
   ],
   "source": [
    "import sqlite3 as sql;\n",
    "cn = sql.connect('tysql.db')\n",
    "cursor = cn.cursor()\n",
    "cursor.execute(\"SELECT cust_id FROM Customers;\")\n",
    "print(cursor.fetchall())"
   ]
  },
  {
   "cell_type": "markdown",
   "metadata": {},
   "source": [
    "4. Всю таблицю Customers table"
   ]
  },
  {
   "cell_type": "code",
   "execution_count": 113,
   "metadata": {},
   "outputs": [
    {
     "name": "stdout",
     "output_type": "stream",
     "text": [
      "[('1000000001', 'Village Toys', '200 Maple Lane', 'Detroit', 'MI', '44444', 'USA', 'John Smith', 'sales@villagetoys.com'), ('1000000002', 'Kids Place', '333 South Lake Drive', 'Columbus', 'OH', '43333', 'USA', 'Michelle Green', None), ('1000000003', 'Fun4All', '1 Sunny Place', 'Muncie', 'IN', '42222', 'USA', 'Jim Jones', 'jjones@fun4all.com'), ('1000000004', 'Fun4All', '829 Riverside Drive', 'Phoenix', 'AZ', '88888', 'USA', 'Denise L. Stephens', 'dstephens@fun4all.com'), ('1000000005', 'The Toy Store', '4545 53rd Street', 'Chicago', 'IL', '54545', 'USA', 'Kim Howard', None)]\n"
     ]
    }
   ],
   "source": [
    "import sqlite3 as sql;\n",
    "cn = sql.connect('tysql.db')\n",
    "cursor = cn.cursor()\n",
    "cursor.execute(\"SELECT * FROM Customers;\")\n",
    "print(cursor.fetchall())"
   ]
  },
  {
   "cell_type": "markdown",
   "metadata": {},
   "source": [
    "5. Список клієнтів (cust_names) відсортованих від Z до A"
   ]
  },
  {
   "cell_type": "code",
   "execution_count": 114,
   "metadata": {},
   "outputs": [
    {
     "name": "stdout",
     "output_type": "stream",
     "text": [
      "[('Village Toys',), ('The Toy Store',), ('Kids Place',), ('Fun4All',), ('Fun4All',)]\n"
     ]
    }
   ],
   "source": [
    "import sqlite3 as sql;\n",
    "cn = sql.connect('tysql.db')\n",
    "cursor = cn.cursor()\n",
    "cursor.execute(\"SELECT cust_name FROM Customers ORDER BY cust_name DESC;\")\n",
    "print(cursor.fetchall())"
   ]
  },
  {
   "cell_type": "markdown",
   "metadata": {},
   "source": [
    "6. Таблицю клієнтів та замовлень (cust_id і order_num) . Відсортуйте по клієнту і потім по даті замовлення"
   ]
  },
  {
   "cell_type": "code",
   "execution_count": 15,
   "metadata": {},
   "outputs": [
    {
     "name": "stdout",
     "output_type": "stream",
     "text": [
      "[('1000000003', 'Fun4All', 20006, '2012-01-12'), ('1000000004', 'Fun4All', 20007, '2012-01-30'), ('1000000002', 'Kids Place', None, None), ('1000000005', 'The Toy Store', 20008, '2012-02-03'), ('1000000001', 'Village Toys', 20005, '2012-05-01'), ('1000000001', 'Village Toys', 20009, '2012-02-08')]\n",
      "-----\n",
      "[('1000000002', 'Kids Place', None, None), ('1000000003', 'Fun4All', 20006, '2012-01-12'), ('1000000004', 'Fun4All', 20007, '2012-01-30'), ('1000000005', 'The Toy Store', 20008, '2012-02-03'), ('1000000001', 'Village Toys', 20009, '2012-02-08'), ('1000000001', 'Village Toys', 20005, '2012-05-01')]\n"
     ]
    }
   ],
   "source": [
    "import sqlite3 as sql;\n",
    "\n",
    "cn = sql.connect('tysql.db')\n",
    "sql_str = ''' SELECT  C.cust_id, C.cust_name, O.order_num, O.order_date \n",
    "FROM \tCustomers AS C\n",
    "\t\tLEFT JOIN Orders AS O ON C.cust_id = O.cust_id\n",
    "ORDER BY C.cust_name; '''\n",
    "rs = cn.cursor().execute(sql_str).fetchall();\n",
    "\n",
    "print(rs)\n",
    "\n",
    "print('-----')\n",
    "sql_str = ''' SELECT  C.cust_id, C.cust_name, O.order_num, O.order_date \n",
    "FROM \tCustomers AS C\n",
    "\t\tLEFT JOIN Orders AS O ON C.cust_id = O.cust_id\n",
    "ORDER BY O.order_date; '''\n",
    "rs = cn.cursor().execute(sql_str).fetchall();\n",
    "\n",
    "print(rs)\n",
    "cn.close()"
   ]
  },
  {
   "cell_type": "markdown",
   "metadata": {},
   "source": [
    "7. Таблицю (на основі Items) з кількість та вартістю товару. Відсортуйте в порядку спадання по кількості та вартості"
   ]
  },
  {
   "cell_type": "code",
   "execution_count": 8,
   "metadata": {},
   "outputs": [
    {
     "name": "stdout",
     "output_type": "stream",
     "text": [
      "[('BNBG01', 'DLL01', 'Fish bean bag toy', 250, 2.49), ('BNBG02', 'DLL01', 'Bird bean bag toy', 250, 2.49), ('BNBG03', 'DLL01', 'Rabbit bean bag toy', 250, 2.49), ('BR03', 'BRS01', '18 inch teddy bear', 100, 10.99), ('BR01', 'BRS01', '8 inch teddy bear', 100, 5.49), ('BNBG01', 'DLL01', 'Fish bean bag toy', 100, 2.99), ('BNBG02', 'DLL01', 'Bird bean bag toy', 100, 2.99), ('BNBG03', 'DLL01', 'Rabbit bean bag toy', 100, 2.99), ('BR03', 'BRS01', '18 inch teddy bear', 50, 11.49), ('RGAN01', 'DLL01', 'Raggedy Ann', 50, 4.49), ('BR01', 'BRS01', '8 inch teddy bear', 20, 5.99), ('BR03', 'BRS01', '18 inch teddy bear', 10, 11.99), ('BR02', 'BRS01', '12 inch teddy bear', 10, 8.99), ('BNBG01', 'DLL01', 'Fish bean bag toy', 10, 3.49), ('BNBG02', 'DLL01', 'Bird bean bag toy', 10, 3.49), ('BNBG03', 'DLL01', 'Rabbit bean bag toy', 10, 3.49), ('BR03', 'BRS01', '18 inch teddy bear', 5, 11.99), ('RGAN01', 'DLL01', 'Raggedy Ann', 5, 4.99)]\n"
     ]
    }
   ],
   "source": [
    "import sqlite3 as sql;\n",
    "\n",
    "cn = sql.connect('tysql.db')\n",
    "sql_str = ''' SELECT \tP.prod_id, P.vend_id, P.prod_name, OI.quantity, OI.item_price\n",
    "FROM\tOrderItems OI\n",
    "\t\tJOIN Products P ON OI.prod_id = P.prod_id\n",
    "ORDER BY quantity DESC, item_price DESC; '''\n",
    "rs = cn.cursor().execute(sql_str).fetchall();\n",
    "\n",
    "print(rs)\n"
   ]
  },
  {
   "cell_type": "markdown",
   "metadata": {},
   "source": [
    "8. Товар (з таблиці Products), ціна якого становить 9.49"
   ]
  },
  {
   "cell_type": "code",
   "execution_count": 10,
   "metadata": {},
   "outputs": [
    {
     "name": "stdout",
     "output_type": "stream",
     "text": [
      "[('RYL01', 'FNG01', 'King doll', 9.49, '12 inch king doll with royal garments and crown'), ('RYL02', 'FNG01', 'Queen doll', 9.49, '12 inch queen doll with royal garments and crown')]\n"
     ]
    }
   ],
   "source": [
    "import sqlite3 as sql;\n",
    "\n",
    "cn = sql.connect('tysql.db')\n",
    "sql_str = ''' SELECT * FROM Products WHERE prod_price = 9.49; '''\n",
    "rs = cn.cursor().execute(sql_str).fetchall();\n",
    "\n",
    "print(rs)\n"
   ]
  },
  {
   "cell_type": "markdown",
   "metadata": {},
   "source": [
    "9. Виведіть назву товару та ціну, яка лежить в діапазоні від  3 до 6. Відсортуйте результат в по ціні в порядку зростання"
   ]
  },
  {
   "cell_type": "code",
   "execution_count": 11,
   "metadata": {},
   "outputs": [
    {
     "name": "stdout",
     "output_type": "stream",
     "text": [
      "[('Fish bean bag toy', 3.49), ('Bird bean bag toy', 3.49), ('Rabbit bean bag toy', 3.49), ('Raggedy Ann', 4.99), ('8 inch teddy bear', 5.99)]\n"
     ]
    }
   ],
   "source": [
    "import sqlite3 as sql;\n",
    "\n",
    "cn = sql.connect('tysql.db')\n",
    "sql_str = ''' SELECT prod_name, prod_price FROM Products WHERE prod_price BETWEEN 3 AND 6 ORDER BY prod_price; '''\n",
    "rs = cn.cursor().execute(sql_str).fetchall();\n",
    "\n",
    "print(rs)\n",
    "\n"
   ]
  },
  {
   "cell_type": "markdown",
   "metadata": {},
   "source": [
    "10. Кількість товару, що було продано"
   ]
  },
  {
   "cell_type": "code",
   "execution_count": 12,
   "metadata": {},
   "outputs": [
    {
     "name": "stdout",
     "output_type": "stream",
     "text": [
      "[(7,)]\n"
     ]
    }
   ],
   "source": [
    "import sqlite3 as sql;\n",
    "\n",
    "cn = sql.connect('tysql.db')\n",
    "sql_str = ''' SELECT COUNT(DISTINCT prod_id) FROM OrderItems; '''\n",
    "rs = cn.cursor().execute(sql_str).fetchall();\n",
    "\n",
    "print(rs)"
   ]
  },
  {
   "cell_type": "markdown",
   "metadata": {},
   "source": [
    "11. Кількість найменувань товару, ціна якого більша за 4"
   ]
  },
  {
   "cell_type": "code",
   "execution_count": 14,
   "metadata": {},
   "outputs": [
    {
     "name": "stdout",
     "output_type": "stream",
     "text": [
      "[(6,)]\n"
     ]
    }
   ],
   "source": [
    "import sqlite3 as sql;\n",
    "\n",
    "cn = sql.connect('tysql.db')\n",
    "sql_str = ''' SELECT COUNT(DISTINCT prod_id) FROM Products WHERE prod_price > 4; '''\n",
    "rs = cn.cursor().execute(sql_str).fetchall();\n",
    "\n",
    "print(rs)\n"
   ]
  },
  {
   "cell_type": "markdown",
   "metadata": {},
   "source": [
    "12. Розробіть алгоритм для виведення 3 найдорожчих товарів в базі"
   ]
  },
  {
   "cell_type": "code",
   "execution_count": 15,
   "metadata": {},
   "outputs": [
    {
     "name": "stdout",
     "output_type": "stream",
     "text": [
      "[('18 inch teddy bear', 11.99), ('King doll', 9.49), ('Queen doll', 9.49)]\n"
     ]
    }
   ],
   "source": [
    "import sqlite3 as sql;\n",
    "\n",
    "cn = sql.connect('tysql.db')\n",
    "sql_str = ''' SELECT prod_name, prod_price FROM Products ORDER BY prod_price DESC LIMIT 3; '''\n",
    "rs = cn.cursor().execute(sql_str).fetchall();\n",
    "\n",
    "print(rs)"
   ]
  },
  {
   "cell_type": "markdown",
   "metadata": {},
   "source": [
    "13. Підрахуйте кількість замовлень для кожного клієнта використовуючи підзапити"
   ]
  },
  {
   "cell_type": "code",
   "execution_count": 16,
   "metadata": {},
   "outputs": [
    {
     "name": "stdout",
     "output_type": "stream",
     "text": [
      "[('Fun4All', 2), ('Kids Place', 0), ('The Toy Store', 1), ('Village Toys', 2)]\n"
     ]
    }
   ],
   "source": [
    "import sqlite3 as sql;\n",
    "\n",
    "cn = sql.connect('tysql.db')\n",
    "sql_str = ''' SELECT \tC.cust_name, COUNT(O.order_num) cnt\n",
    "FROM\tCustomers C\n",
    "\t\tLEFT JOIN Orders O ON C.cust_id = O.cust_id\n",
    "GROUP BY C.cust_name; '''\n",
    "rs = cn.cursor().execute(sql_str).fetchall();\n",
    "\n",
    "print(rs)\n",
    "\n"
   ]
  },
  {
   "cell_type": "markdown",
   "metadata": {},
   "source": [
    "14. Виведіть список клієнтів та їх замовлення (використайте JOIN)"
   ]
  },
  {
   "cell_type": "code",
   "execution_count": 17,
   "metadata": {},
   "outputs": [
    {
     "name": "stdout",
     "output_type": "stream",
     "text": [
      "[('Fun4All', 20006, '2012-01-12', 329.6), ('Fun4All', 20007, '2012-01-30', 1696.0), ('Kids Place', None, None, None), ('The Toy Store', 20008, '2012-02-03', 189.60000000000002), ('Village Toys', 20005, '2012-05-01', 1648.0), ('Village Toys', 20009, '2012-02-08', 1867.5)]\n"
     ]
    }
   ],
   "source": [
    "import sqlite3 as sql;\n",
    "\n",
    "cn = sql.connect('tysql.db')\n",
    "sql_str = ''' SELECT \tC.cust_name, O.order_num, order_date, SUM(quantity * item_price) order_sum\n",
    "FROM\tCustomers C\n",
    "\t\tLEFT JOIN Orders O ON C.cust_id = O.cust_id\n",
    "\t\tLEFT JOIN OrderItems OI ON O.order_num = OI.order_num\n",
    "GROUP BY C.cust_name, O.order_num, order_date\t\t\n",
    "ORDER BY C.cust_name\t; '''\n",
    "rs = cn.cursor().execute(sql_str).fetchall();\n",
    "\n",
    "print(rs)\n",
    "\n"
   ]
  },
  {
   "cell_type": "markdown",
   "metadata": {},
   "source": [
    "15. Зробіть два запити: список товарів, ціна яких менша 5 та список товарів, ціна який більша рівна 5. Використайте UNION для об'єднання цих запитів"
   ]
  },
  {
   "cell_type": "code",
   "execution_count": 18,
   "metadata": {},
   "outputs": [
    {
     "name": "stdout",
     "output_type": "stream",
     "text": [
      "[('12 inch teddy bear', 8.99), ('18 inch teddy bear', 11.99), ('8 inch teddy bear', 5.99), ('Bird bean bag toy', 3.49), ('Fish bean bag toy', 3.49), ('King doll', 9.49), ('Queen doll', 9.49), ('Rabbit bean bag toy', 3.49), ('Raggedy Ann', 4.99)]\n"
     ]
    }
   ],
   "source": [
    "import sqlite3 as sql;\n",
    "\n",
    "cn = sql.connect('tysql.db')\n",
    "sql_str = ''' SELECT prod_name, prod_price FROM Products WHERE prod_price < 5\t\t\n",
    "UNION\n",
    "SELECT prod_name, prod_price FROM Products WHERE prod_price >= 5\t; '''\n",
    "rs = cn.cursor().execute(sql_str).fetchall();\n",
    "\n",
    "print(rs)\n",
    "\n"
   ]
  },
  {
   "cell_type": "markdown",
   "metadata": {},
   "source": [
    "### Завдання 4: "
   ]
  },
  {
   "cell_type": "markdown",
   "metadata": {},
   "source": [
    "Зареєструйтеся на сайті  http://www.sql-ex.ru/\n",
    "\n",
    "Виконайте завдання із блоку SELECT; з 1 по 30 завдання\n",
    "\n",
    "Код запитів вставляйте сюди\n"
   ]
  },
  {
   "cell_type": "code",
   "execution_count": 22,
   "metadata": {},
   "outputs": [
    {
     "ename": "SyntaxError",
     "evalue": "invalid syntax (<ipython-input-22-b37b6df56a0e>, line 1)",
     "output_type": "error",
     "traceback": [
      "\u001b[1;36m  File \u001b[1;32m\"<ipython-input-22-b37b6df56a0e>\"\u001b[1;36m, line \u001b[1;32m1\u001b[0m\n\u001b[1;33m    ЗАДАЧИ 1 - 13, 15 - 28:\u001b[0m\n\u001b[1;37m           ^\u001b[0m\n\u001b[1;31mSyntaxError\u001b[0m\u001b[1;31m:\u001b[0m invalid syntax\n"
     ]
    }
   ],
   "source": [
    "ЗАДАЧИ 1 - 13, 15 - 28:\n",
    "    Схема БД состоит из четырех таблиц:\n",
    "Product(maker, model, type)\n",
    "PC(code, model, speed, ram, hd, cd, price)\n",
    "Laptop(code, model, speed, ram, hd, price, screen)\n",
    "Printer(code, model, color, type, price)\n",
    "Таблица Product представляет производителя (maker), номер модели (model) и тип ('PC' - ПК, 'Laptop' - ПК-блокнот или 'Printer' - принтер). Предполагается, что номера моделей в таблице Product уникальны для всех производителей и типов продуктов. В таблице PC для каждого ПК, однозначно определяемого уникальным кодом – code, указаны модель – model (внешний ключ к таблице Product), скорость - speed (процессора в мегагерцах), объем памяти - ram (в мегабайтах), размер диска - hd (в гигабайтах), скорость считывающего устройства - cd (например, '4x') и цена - price. Таблица Laptop аналогична таблице РС за исключением того, что вместо скорости CD содержит размер экрана -screen (в дюймах). В таблице Printer для каждой модели принтера указывается, является ли он цветным - color ('y', если цветной), тип принтера - type (лазерный – 'Laser', струйный – 'Jet' или матричный – 'Matrix') и цена - price.\n",
    "\n",
    "1. SELECT model, speed, hd FROM PC WHERE price < 500\n",
    "2. SELECT distinct maker FROM Printer P JOIN Product PR ON P.model = PR.model WHERE PR.type = 'Printer'\n",
    "3. SELECT model, ram, screen FROM Laptop WHERE price > 1000\n",
    "4. SELECT * FROM Printer WHERE color = 'y'\n",
    "5. Select model, speed, hd FROM PC WHERE price < 600 AND cd in ('12x', '24x')\n",
    "6. SELECT DISTINCT maker, speed FROM Laptop L JOIN Product P ON L.model = P.model WHERE hd >= 10 AND P.type = 'Laptop'\n",
    "7. Select P.model, price from PC PP JOIN Product P ON PP.model = P.model where maker like 'B' and P.type = 'PC'\n",
    "    UNION\n",
    "    Select P.model, price from Laptop PP JOIN Product P ON PP.model = P.model where maker like 'B' and P.type = 'Laptop'\n",
    "    UNION\n",
    "    Select P.model, price from Printer PP JOIN Product P ON PP.model = P.model where maker like 'B' and P.type = 'Printer'\n",
    "8. Select distinct maker from Product P JOIN PC PP ON P.model = PP.model WHERE NOT maker IN (\n",
    "    Select distinct maker \n",
    "    from Product P\n",
    "    JOIN Laptop PP ON P.model = PP.model\n",
    "    WHERE P.Type = 'Laptop'\n",
    "    )\n",
    "    and P.Type = 'PC'\n",
    "9. Select distinct maker from Product P join PC PP ON P.model = PP.model where P.type = 'pc' and speed >= 450\n",
    "10. Select top 1 with ties model, price from printer order by price desc\n",
    "11. Select avg(speed) from pc\n",
    "12. Select avg(speed) from laptop where price > 1000\n",
    "13. Select avg(speed) from pc pp join product p on pp.model = p.model where maker = 'a'\n",
    "15. select hd from (Select hd, COUNT(*) cnt from pc group by hd having COUNT(*) > 1) m\n",
    "16. Select distinct \n",
    "    case when pc1.Model > pc2.model then pc1.Model else pc2.Model end Model1,\n",
    "    case when pc1.Model > pc2.model then pc2.Model else pc1.Model end Model2,\n",
    "    pc1.speed, pc1.ram\n",
    "    from pc pc1 \n",
    "    join pc pc2 on pc1.speed = pc2.speed and pc1.ram = pc2.ram and pc1.Model <> pc2.model \n",
    "    order by 1 desc, 2\n",
    "17. Select type, l.model, speed from laptop l join product p on l.model = p.model where speed < (select min(speed) from pc)\n",
    "18. Select top 1 with ties maker, price from printer p join product pp on p.model = pp.model where color = 'y' order by price\n",
    "19. Select maker, avg(screen) from laptop l join product p on l.model = p.model group by maker\n",
    "20. select maker, count(distinct pp.model) from pc p join product pp on p.model = pp.model group by maker having count(distinct pp.model) >=3\n",
    "21. Select maker, max(pp.price) from  product p join pc pp on p.model = pp.model group by maker\n",
    "22. Select speed, avg(price) from pc where speed > 600 group by speed\n",
    "23. select distinct m1.maker from   (\n",
    "    Select maker from product p join pc pp on p.model = pp.model where speed >= 750\n",
    "    ) m1 join\n",
    "    (\n",
    "    Select maker from product p join laptop pp on p.model = pp.model where speed >= 750) m2 on m1.maker = m2.maker\n",
    "24. select top 1 with ties model\n",
    "    from (\n",
    "    select model, price from pc\n",
    "    union\n",
    "    select model, price from laptop\n",
    "    union\n",
    "    select model, price from printer\n",
    "    ) m\n",
    "    order by price desc\n",
    "25. Select maker\n",
    "    from  product p join printer pp on p.model = pp.model\n",
    "    where maker = (select top 1 maker from product p join pc pp on p.model = pp.model order by ram)\n",
    "    union \n",
    "    select maker from pc join product p on pc.model = p.model where speed in (\n",
    "    select top 1 speed from pc where model in (\n",
    "    select model from pc where ram = (select top 1 ram from pc order by ram)\n",
    "    )\n",
    "    )\n",
    "26. select avg(price)\n",
    "    from (\n",
    "    Select price from pc join product p on pc.model = p.model where maker = 'a'\n",
    "    union all\n",
    "    Select price from laptop join product p on laptop.model = p.model where maker = 'a') m\n",
    "27. Select maker, avg(hd)\n",
    "    from pc join product p on pc.model = p.model\n",
    "    where maker in (select maker from printer pp join product p on pp.model = p.model)\n",
    "    group by maker\n",
    "28. select count(*) from (\n",
    "    Select maker, count(model) cnt\n",
    "    from  product \n",
    "    group by maker\n",
    "    having count(model) = 1\n",
    ") m\n",
    "\n",
    "\n",
    "\n",
    "ЗАДАЧИ 14:\n",
    "    Рассматривается БД кораблей, участвовавших во второй мировой войне. Имеются следующие отношения:\n",
    "Classes (class, type, country, numGuns, bore, displacement)\n",
    "Ships (name, class, launched)\n",
    "Battles (name, date)\n",
    "Outcomes (ship, battle, result)\n",
    "Корабли в «классах» построены по одному и тому же проекту, и классу присваивается либо имя первого корабля, построенного по данному проекту, либо названию класса дается имя проекта, которое не совпадает ни с одним из кораблей в БД. Корабль, давший название классу, называется головным.\n",
    "Отношение Classes содержит имя класса, тип (bb для боевого (линейного) корабля или bc для боевого крейсера), страну, в которой построен корабль, число главных орудий, калибр орудий (диаметр ствола орудия в дюймах) и водоизмещение ( вес в тоннах). В отношении Ships записаны название корабля, имя его класса и год спуска на воду. В отношение Battles включены название и дата битвы, в которой участвовали корабли, а в отношении Outcomes – результат участия данного корабля в битве (потоплен-sunk, поврежден - damaged или невредим - OK).\n",
    "Замечания. 1) В отношение Outcomes могут входить корабли, отсутствующие в отношении Ships. 2) Потопленный корабль в последующих битвах участия не принимает.\n",
    "\n",
    "14. Select S.class, name, country from Ships S join Classes C ON S.class = C.class where numGuns >= 10\n",
    "\n",
    "ЗАДАЧИ 29 - 30:\n",
    "    Фирма имеет несколько пунктов приема вторсырья. Каждый пункт получает деньги для их выдачи сдатчикам вторсырья. Сведения о получении денег на пунктах приема записываются в таблицу:\n",
    "Income_o(point, date, inc)\n",
    "Первичным ключом является (point, date). При этом в столбец date записывается только дата (без времени), т.е. прием денег (inc) на каждом пункте производится не чаще одного раза в день. Сведения о выдаче денег сдатчикам вторсырья записываются в таблицу:\n",
    "Outcome_o(point, date, out)\n",
    "В этой таблице также первичный ключ (point, date) гарантирует отчетность каждого пункта о выданных деньгах (out) не чаще одного раза в день.\n",
    "В случае, когда приход и расход денег может фиксироваться несколько раз в день, используется другая схема с таблицами, имеющими первичный ключ code:\n",
    "Income(code, point, date, inc)\n",
    "Outcome(code, point, date, out)\n",
    "Здесь также значения столбца date не содержат времени.  \n",
    "\n",
    "29. Select point, date, sum(inc), sum(out)\n",
    "    from (\n",
    "    select point, date, inc, null out from income_o\n",
    "    union all\n",
    "    select point, date, null, out from outcome_o\n",
    "    ) m\n",
    "    group by point, date\n",
    "    \n",
    "30. Select point, date, sum(out), sum(inc) \n",
    "    from (\n",
    "    select point, date, inc, null out from income\n",
    "    union all\n",
    "    select point, date, null, out from outcome\n",
    "    ) m\n",
    "    group by point, date    "
   ]
  },
  {
   "cell_type": "code",
   "execution_count": null,
   "metadata": {},
   "outputs": [],
   "source": []
  }
 ],
 "metadata": {
  "kernelspec": {
   "display_name": "Python 3",
   "language": "python",
   "name": "python3"
  },
  "language_info": {
   "codemirror_mode": {
    "name": "ipython",
    "version": 3
   },
   "file_extension": ".py",
   "mimetype": "text/x-python",
   "name": "python",
   "nbconvert_exporter": "python",
   "pygments_lexer": "ipython3",
   "version": "3.8.8"
  }
 },
 "nbformat": 4,
 "nbformat_minor": 2
}
