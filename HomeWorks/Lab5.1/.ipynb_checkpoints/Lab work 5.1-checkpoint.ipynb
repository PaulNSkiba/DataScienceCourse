{
 "cells": [
  {
   "cell_type": "markdown",
   "metadata": {},
   "source": [
    "___\n",
    "\n",
    "<a href='https://mainacademy.ua/'> <img src='https://mainacademy.ua/wp-content/uploads/2019/03/logo-main.png' alt = 'Хмм, щось з інтернетом'/></a>\n",
    "___\n",
    "\n",
    "# Module 5: Data analysis with NumPy and Pandas"
   ]
  },
  {
   "cell_type": "markdown",
   "metadata": {},
   "source": [
    "## Lab work 5.1\n",
    "\n"
   ]
  },
  {
   "cell_type": "markdown",
   "metadata": {},
   "source": [
    "#### Мета: \n",
    "\n",
    "* навчитися працювати із бібліотекою NumPy в Python"
   ]
  },
  {
   "cell_type": "markdown",
   "metadata": {},
   "source": [
    "### Завдання:"
   ]
  },
  {
   "cell_type": "code",
   "execution_count": null,
   "metadata": {},
   "outputs": [],
   "source": [
    "import numpy as np"
   ]
  },
  {
   "cell_type": "markdown",
   "metadata": {},
   "source": [
    "Вивести версію та конфігурацію бібліотеки:"
   ]
  },
  {
   "cell_type": "code",
   "execution_count": 6,
   "metadata": {},
   "outputs": [
    {
     "name": "stdout",
     "output_type": "stream",
     "text": [
      "1.20.1\n",
      "blas_mkl_info:\n",
      "    libraries = ['mkl_rt']\n",
      "    library_dirs = ['D:/AnacondaPython\\\\Library\\\\lib']\n",
      "    define_macros = [('SCIPY_MKL_H', None), ('HAVE_CBLAS', None)]\n",
      "    include_dirs = ['D:/AnacondaPython\\\\Library\\\\include']\n",
      "blas_opt_info:\n",
      "    libraries = ['mkl_rt']\n",
      "    library_dirs = ['D:/AnacondaPython\\\\Library\\\\lib']\n",
      "    define_macros = [('SCIPY_MKL_H', None), ('HAVE_CBLAS', None)]\n",
      "    include_dirs = ['D:/AnacondaPython\\\\Library\\\\include']\n",
      "lapack_mkl_info:\n",
      "    libraries = ['mkl_rt']\n",
      "    library_dirs = ['D:/AnacondaPython\\\\Library\\\\lib']\n",
      "    define_macros = [('SCIPY_MKL_H', None), ('HAVE_CBLAS', None)]\n",
      "    include_dirs = ['D:/AnacondaPython\\\\Library\\\\include']\n",
      "lapack_opt_info:\n",
      "    libraries = ['mkl_rt']\n",
      "    library_dirs = ['D:/AnacondaPython\\\\Library\\\\lib']\n",
      "    define_macros = [('SCIPY_MKL_H', None), ('HAVE_CBLAS', None)]\n",
      "    include_dirs = ['D:/AnacondaPython\\\\Library\\\\include']\n"
     ]
    }
   ],
   "source": [
    "import numpy as np\n",
    "print(np.version.version)\n",
    "np.show_config()"
   ]
  },
  {
   "cell_type": "markdown",
   "metadata": {},
   "source": [
    "Створити вектор з 10 елементів, заповнений одиницями:"
   ]
  },
  {
   "cell_type": "code",
   "execution_count": 7,
   "metadata": {},
   "outputs": [
    {
     "name": "stdout",
     "output_type": "stream",
     "text": [
      "[1. 1. 1. 1. 1. 1. 1. 1. 1. 1.]\n"
     ]
    }
   ],
   "source": [
    "import numpy as np\n",
    "print(np.ones(10))"
   ]
  },
  {
   "cell_type": "markdown",
   "metadata": {},
   "source": [
    "Створити вектор із значеннями від 0 до 10:"
   ]
  },
  {
   "cell_type": "code",
   "execution_count": 10,
   "metadata": {},
   "outputs": [
    {
     "name": "stdout",
     "output_type": "stream",
     "text": [
      "[ 0.  1.  2.  3.  4.  5.  6.  7.  8.  9. 10.]\n"
     ]
    }
   ],
   "source": [
    "import numpy as np\n",
    "print(np.linspace(0,10,11))"
   ]
  },
  {
   "cell_type": "markdown",
   "metadata": {},
   "source": [
    "Створити матрицю 5 на 5, заповнену нулями:"
   ]
  },
  {
   "cell_type": "code",
   "execution_count": 14,
   "metadata": {},
   "outputs": [
    {
     "name": "stdout",
     "output_type": "stream",
     "text": [
      "[[0 0 0 0 0]\n",
      " [0 0 0 0 0]\n",
      " [0 0 0 0 0]\n",
      " [0 0 0 0 0]\n",
      " [0 0 0 0 0]]\n"
     ]
    }
   ],
   "source": [
    "import numpy as np\n",
    "print(np.full((5, 5), 0))"
   ]
  },
  {
   "cell_type": "markdown",
   "metadata": {},
   "source": [
    "Заповнити вектор з 20 елементів випадковими цілими числами. Знайти індекси ненульових елементів:"
   ]
  },
  {
   "cell_type": "code",
   "execution_count": 22,
   "metadata": {},
   "outputs": [
    {
     "name": "stdout",
     "output_type": "stream",
     "text": [
      "[4 1 0 0 3 5 6 8 1 8 1 5 3 8 0 5 0 7 2 8]\n",
      "(array([ 0,  1,  4,  5,  6,  7,  8,  9, 10, 11, 12, 13, 15, 17, 18, 19],\n",
      "      dtype=int64),)\n"
     ]
    }
   ],
   "source": [
    "import numpy as np\n",
    "arr = np.random.randint(0, 9, (20))\n",
    "print(arr)\n",
    "print(np.nonzero(arr))"
   ]
  },
  {
   "cell_type": "markdown",
   "metadata": {},
   "source": [
    "Для вектора із попередньої задачі знайти середнє значення, медіану, стандартне відхилення:"
   ]
  },
  {
   "cell_type": "code",
   "execution_count": 26,
   "metadata": {},
   "outputs": [
    {
     "name": "stdout",
     "output_type": "stream",
     "text": [
      "[7 5 0 1 2 5 8 2 2 4 0 7 7 5 0 3 0 6 2 8]\n",
      "Середнє: 3.7\n",
      "Медіана: 3.5\n",
      "Відхилення: 2.776688675382964\n"
     ]
    }
   ],
   "source": [
    "import numpy as np\n",
    "arr = np.random.randint(0, 9, (20))\n",
    "print(arr)\n",
    "print('Середнє:', np.mean(arr))\n",
    "print('Медіана:', np.median(arr))\n",
    "print('Відхилення:', np.std(arr))"
   ]
  },
  {
   "cell_type": "markdown",
   "metadata": {},
   "source": [
    "Створити дві матриці випадкових чисел розміром 4х2 та 2х2. Перемножити їх:"
   ]
  },
  {
   "cell_type": "code",
   "execution_count": 45,
   "metadata": {},
   "outputs": [
    {
     "name": "stdout",
     "output_type": "stream",
     "text": [
      "arr1 [[6 6]\n",
      " [2 8]\n",
      " [7 2]\n",
      " [0 3]]\n",
      "arr2 [[7 7]\n",
      " [1 6]]\n",
      "arr1*arr2 [[48 78]\n",
      " [22 62]\n",
      " [51 61]\n",
      " [ 3 18]]\n",
      "arr1*arr2 [[48 78]\n",
      " [22 62]\n",
      " [51 61]\n",
      " [ 3 18]]\n"
     ]
    }
   ],
   "source": [
    "import numpy as np\n",
    "arr1 = np.random.randint(0, 9, (4,2))\n",
    "arr2 = np.random.randint(0, 9, (2,2))\n",
    "print('arr1', arr1)\n",
    "print('arr2', arr2)\n",
    "#arr2 = arr2.reshape(4,2)\n",
    "print('arr1*arr2', arr1.dot(arr2))\n",
    "print('arr1*arr2', arr1@arr2)\n",
    "#print('arr1*arr2', arr1*arr2)"
   ]
  },
  {
   "cell_type": "markdown",
   "metadata": {},
   "source": [
    "Результуючу матрицю із попередньої задачі перетворити у вектор. Знайти мінімальне та максимальне значення. \n",
    "\n",
    "Максимальне значення замінити на 0:"
   ]
  },
  {
   "cell_type": "code",
   "execution_count": 47,
   "metadata": {},
   "outputs": [
    {
     "name": "stdout",
     "output_type": "stream",
     "text": [
      "arr1 [[5 3]\n",
      " [8 1]\n",
      " [7 2]\n",
      " [2 1]]\n",
      "arr2 [[5 8]\n",
      " [3 0]]\n",
      "arr1*arr2 [[34 40]\n",
      " [43 64]\n",
      " [41 56]\n",
      " [13 16]]\n",
      "arr1*arr2 [[34 40]\n",
      " [43 64]\n",
      " [41 56]\n",
      " [13 16]]\n",
      "vector: [34 40 43 64 41 56 13 16]\n",
      "min 13\n",
      "min 64\n",
      "Replaced max: [34 40 43  0 41 56 13 16]\n"
     ]
    }
   ],
   "source": [
    "import numpy as np\n",
    "arr1 = np.random.randint(0, 9, (4,2))\n",
    "arr2 = np.random.randint(0, 9, (2,2))\n",
    "print('arr1', arr1)\n",
    "print('arr2', arr2)\n",
    "#arr2 = arr2.reshape(4,2)\n",
    "print('arr1*arr2', arr1.dot(arr2))\n",
    "print('arr1*arr2', arr1@arr2)\n",
    "#print('arr1*arr2', arr1*arr2)\n",
    "arr3 = arr1@arr2\n",
    "arr4 = arr3.reshape(8)\n",
    "print('vector:', arr4)\n",
    "print('min', np.min(arr4))\n",
    "print('min', np.max(arr4))\n",
    "arr4[arr4 == np.max(arr4)] = 0\n",
    "print('Replaced max:', arr4)"
   ]
  },
  {
   "cell_type": "markdown",
   "metadata": {},
   "source": [
    "Знайдіть кореляцію першого рядка матриці із попереднього завдання із іншими рядками:"
   ]
  },
  {
   "cell_type": "code",
   "execution_count": 55,
   "metadata": {},
   "outputs": [
    {
     "name": "stdout",
     "output_type": "stream",
     "text": [
      "arr1 [[6 7]\n",
      " [4 5]\n",
      " [1 7]\n",
      " [5 6]]\n",
      "arr2 [[1 3]\n",
      " [7 6]]\n",
      "arr1*arr2 [[55 60]\n",
      " [39 42]\n",
      " [50 45]\n",
      " [47 51]]\n",
      "arr1*arr2 [[55 60]\n",
      " [39 42]\n",
      " [50 45]\n",
      " [47 51]]\n",
      "[55 60] [39 42] [50 45] [47 51]\n",
      "Koef 0-1: [[1. 1.]\n",
      " [1. 1.]]\n",
      "Koef 0-2: [[ 1. -1.]\n",
      " [-1.  1.]]\n",
      "Koef 0-3: [[1. 1.]\n",
      " [1. 1.]]\n"
     ]
    }
   ],
   "source": [
    "import numpy as np\n",
    "arr1 = np.random.randint(0, 9, (4,2))\n",
    "arr2 = np.random.randint(0, 9, (2,2))\n",
    "print('arr1', arr1)\n",
    "print('arr2', arr2)\n",
    "#arr2 = arr2.reshape(4,2)\n",
    "print('arr1*arr2', arr1.dot(arr2))\n",
    "print('arr1*arr2', arr1@arr2)\n",
    "#print('arr1*arr2', arr1*arr2)\n",
    "arr3 = arr1@arr2\n",
    "#first_row = arr3[0, :]\n",
    "print(arr3[0, :], arr3[1, :], arr3[2, :], arr3[3, :])\n",
    "print('Koef 0-1:', np.corrcoef(arr3[0, :], arr3[1, :]))\n",
    "print('Koef 0-2:', np.corrcoef(arr3[0, :], arr3[2, :]))\n",
    "print('Koef 0-3:', np.corrcoef(arr3[0, :], arr3[3, :]))\n",
    "#print(first_row)"
   ]
  },
  {
   "cell_type": "markdown",
   "metadata": {},
   "source": [
    "Дано матрицю. Знайти ранг матриці:"
   ]
  },
  {
   "cell_type": "code",
   "execution_count": 58,
   "metadata": {},
   "outputs": [
    {
     "name": "stdout",
     "output_type": "stream",
     "text": [
      "Rank of matrix: 3\n"
     ]
    }
   ],
   "source": [
    "import numpy as np\n",
    "a = np.array([[ 1,  4, 5],\n",
    "              [7, 3, 2],\n",
    "              [9, 16, 1]])\n",
    "print('Rank of matrix:', np.linalg.matrix_rank(a))"
   ]
  },
  {
   "cell_type": "markdown",
   "metadata": {},
   "source": [
    "Знайти визначник матриці:"
   ]
  },
  {
   "cell_type": "code",
   "execution_count": 60,
   "metadata": {},
   "outputs": [
    {
     "name": "stdout",
     "output_type": "stream",
     "text": [
      "Determinant: 440.0000000000002\n"
     ]
    }
   ],
   "source": [
    "import numpy as np\n",
    "a = np.array([[ 1,  4, 5],\n",
    "              [7, 3, 2],\n",
    "              [9, 16, 1]])\n",
    "print('Determinant:', np.linalg.det(a))"
   ]
  },
  {
   "cell_type": "markdown",
   "metadata": {},
   "source": [
    "Знайти власні значення та власні вектори матриці: "
   ]
  },
  {
   "cell_type": "code",
   "execution_count": 61,
   "metadata": {},
   "outputs": [
    {
     "name": "stdout",
     "output_type": "stream",
     "text": [
      "власні значення: [14.13520334+0.j         -4.56760167+3.20389947j -4.56760167-3.20389947j]\n",
      "власні вектори: [[ 0.43131913+0.j         -0.31386258-0.47450898j -0.31386258+0.47450898j]\n",
      " [ 0.41502436+0.j         -0.07049527+0.4090732j  -0.07049527-0.4090732j ]\n",
      " [ 0.8010734 +0.j          0.7099444 +0.j          0.7099444 -0.j        ]]\n"
     ]
    }
   ],
   "source": [
    "import numpy as np\n",
    "a = np.array([[ 1,  4, 5],\n",
    "              [7, 3, 2],\n",
    "              [9, 16, 1]])\n",
    "w,v = np.linalg.eig(a)\n",
    "print('власні значення:', w)\n",
    "print('власні вектори:', v)"
   ]
  },
  {
   "cell_type": "markdown",
   "metadata": {},
   "source": [
    "Знайдіть число, що найчастіше зустрічається в масиві:"
   ]
  },
  {
   "cell_type": "code",
   "execution_count": 99,
   "metadata": {},
   "outputs": [
    {
     "name": "stdout",
     "output_type": "stream",
     "text": [
      "[9 8 4 9 8 2 1 1 3 2 4 6 2 4 8 3 9 3 3 5 7 0 4 3 4 2 7 7 4 7 7 0 1 4 3 6 3\n",
      " 3 3 5 4 8 1 2 0 5 7 1 0 6] {0, 1, 2, 3, 4, 5, 6, 7, 8, 9}\n",
      "0 [0 0 0 0]\n",
      "1 [1 1 1 1 1]\n",
      "2 [2 2 2 2 2]\n",
      "3 [3 3 3 3 3 3 3 3 3]\n",
      "4 [4 4 4 4 4 4 4 4]\n",
      "5 [5 5 5]\n",
      "6 [6 6 6]\n",
      "7 [7 7 7 7 7 7]\n",
      "8 [8 8 8 8]\n",
      "9 [9 9 9]\n",
      "Meet the most: 3\n"
     ]
    }
   ],
   "source": [
    "import numpy as np\n",
    "a = np.random.randint(0,10,50)\n",
    "my_numbers = set(a)\n",
    "my_dict = dict()\n",
    "print(a, my_numbers)\n",
    "for i in my_numbers :\n",
    "    print(i, a[a==i])\n",
    "    my_dict[i] = a[a==i].size\n",
    "print('Meet the most:', sorted(my_dict.items(), key=lambda x: x[1], reverse=True)[0][0]) "
   ]
  },
  {
   "cell_type": "markdown",
   "metadata": {},
   "source": [
    "Виведіть лише парні числа, що діляться на 5:"
   ]
  },
  {
   "cell_type": "code",
   "execution_count": 109,
   "metadata": {},
   "outputs": [
    {
     "name": "stdout",
     "output_type": "stream",
     "text": [
      "Original array: [ 7  3  7  9 10  5  4  1  0  3 10  1  7  9  7  7  0  4  1 10  6  9  4  8\n",
      "  6  3  1  6  6  4  8  8  1  6  0  8  2  5 10 10  1 10  6 10  3  6  8  7\n",
      "  7  4]\n",
      "Searched numbers: {0, 10}\n"
     ]
    }
   ],
   "source": [
    "import numpy as np\n",
    "a = np.random.randint(0,11,50)\n",
    "print('Original array:', a)\n",
    "print('Searched numbers:', set(a[(a%2==0)&(a%5==0)]))"
   ]
  },
  {
   "cell_type": "markdown",
   "metadata": {},
   "source": [
    "Розв'яжіть систему рівнянь:\n",
    "$$2x + 5y = 1 $$\n",
    "\n",
    "$$x - 10y = 3  $$\n",
    "   "
   ]
  },
  {
   "cell_type": "code",
   "execution_count": 110,
   "metadata": {},
   "outputs": [
    {
     "name": "stdout",
     "output_type": "stream",
     "text": [
      "Solution is: [ 1.  -0.2]\n"
     ]
    }
   ],
   "source": [
    "import numpy as np\n",
    "A = np.array([[2, 5], [1, -10]])\n",
    "B = np.array([1, 3])\n",
    "X = np.linalg.solve(A,B)\n",
    "\n",
    "print('Solution is:', X)"
   ]
  },
  {
   "cell_type": "code",
   "execution_count": null,
   "metadata": {},
   "outputs": [],
   "source": []
  }
 ],
 "metadata": {
  "kernelspec": {
   "display_name": "Python 3",
   "language": "python",
   "name": "python3"
  },
  "language_info": {
   "codemirror_mode": {
    "name": "ipython",
    "version": 3
   },
   "file_extension": ".py",
   "mimetype": "text/x-python",
   "name": "python",
   "nbconvert_exporter": "python",
   "pygments_lexer": "ipython3",
   "version": "3.8.8"
  }
 },
 "nbformat": 4,
 "nbformat_minor": 2
}
